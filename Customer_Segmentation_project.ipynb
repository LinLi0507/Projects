{
 "cells": [
  {
   "cell_type": "markdown",
   "metadata": {},
   "source": [
    "## Load the Packages "
   ]
  },
  {
   "cell_type": "code",
   "execution_count": 2,
   "metadata": {},
   "outputs": [],
   "source": [
    "import numpy as np\n",
    "import pandas as pd\n",
    "import datetime\n",
    "import matplotlib\n",
    "import matplotlib.pyplot as plt\n",
    "from matplotlib import colors\n",
    "import seaborn as sns\n",
    "from sklearn.preprocessing import LabelEncoder\n",
    "from sklearn.preprocessing import StandardScaler\n",
    "from sklearn.decomposition import PCA\n",
    "from sklearn.cluster import KMeans\n",
    "import matplotlib.pyplot as plt, numpy as np\n",
    "from mpl_toolkits.mplot3d import Axes3D\n",
    "from sklearn.cluster import AgglomerativeClustering\n",
    "from matplotlib.colors import ListedColormap\n",
    "from sklearn import metrics\n",
    "import warnings\n",
    "import sys"
   ]
  },
  {
   "cell_type": "code",
   "execution_count": 3,
   "metadata": {},
   "outputs": [],
   "source": [
    "from sklearn.cluster import KMeans\n",
    "from sklearn.model_selection import train_test_split\n",
    "from sklearn.linear_model import LogisticRegression\n",
    "from sklearn.tree import DecisionTreeClassifier\n",
    "from sklearn.ensemble import RandomForestClassifier\n",
    "from sklearn.ensemble import BaggingClassifier\n",
    "import os"
   ]
  },
  {
   "cell_type": "code",
   "execution_count": 8,
   "metadata": {},
   "outputs": [],
   "source": [
    "path='C:/Users/.../Desktop'\n",
    "os.chdir(path)"
   ]
  },
  {
   "cell_type": "code",
   "execution_count": 12,
   "metadata": {
    "scrolled": true
   },
   "outputs": [
    {
     "name": "stdout",
     "output_type": "stream",
     "text": [
      "Number of datapoints: 2240\n"
     ]
    },
    {
     "data": {
      "text/html": [
       "<div>\n",
       "<style scoped>\n",
       "    .dataframe tbody tr th:only-of-type {\n",
       "        vertical-align: middle;\n",
       "    }\n",
       "\n",
       "    .dataframe tbody tr th {\n",
       "        vertical-align: top;\n",
       "    }\n",
       "\n",
       "    .dataframe thead th {\n",
       "        text-align: right;\n",
       "    }\n",
       "</style>\n",
       "<table border=\"1\" class=\"dataframe\">\n",
       "  <thead>\n",
       "    <tr style=\"text-align: right;\">\n",
       "      <th></th>\n",
       "      <th>ID</th>\n",
       "      <th>Year_Birth</th>\n",
       "      <th>Education</th>\n",
       "      <th>Marital_Status</th>\n",
       "      <th>Income</th>\n",
       "      <th>Kidhome</th>\n",
       "      <th>Teenhome</th>\n",
       "      <th>Dt_Customer</th>\n",
       "      <th>Recency</th>\n",
       "      <th>MntWines</th>\n",
       "      <th>...</th>\n",
       "      <th>NumWebVisitsMonth</th>\n",
       "      <th>AcceptedCmp3</th>\n",
       "      <th>AcceptedCmp4</th>\n",
       "      <th>AcceptedCmp5</th>\n",
       "      <th>AcceptedCmp1</th>\n",
       "      <th>AcceptedCmp2</th>\n",
       "      <th>Complain</th>\n",
       "      <th>Z_CostContact</th>\n",
       "      <th>Z_Revenue</th>\n",
       "      <th>Response</th>\n",
       "    </tr>\n",
       "  </thead>\n",
       "  <tbody>\n",
       "    <tr>\n",
       "      <th>0</th>\n",
       "      <td>5524</td>\n",
       "      <td>1957</td>\n",
       "      <td>Graduation</td>\n",
       "      <td>Single</td>\n",
       "      <td>58138.0</td>\n",
       "      <td>0</td>\n",
       "      <td>0</td>\n",
       "      <td>04-09-2012</td>\n",
       "      <td>58</td>\n",
       "      <td>635</td>\n",
       "      <td>...</td>\n",
       "      <td>7</td>\n",
       "      <td>0</td>\n",
       "      <td>0</td>\n",
       "      <td>0</td>\n",
       "      <td>0</td>\n",
       "      <td>0</td>\n",
       "      <td>0</td>\n",
       "      <td>3</td>\n",
       "      <td>11</td>\n",
       "      <td>1</td>\n",
       "    </tr>\n",
       "    <tr>\n",
       "      <th>1</th>\n",
       "      <td>2174</td>\n",
       "      <td>1954</td>\n",
       "      <td>Graduation</td>\n",
       "      <td>Single</td>\n",
       "      <td>46344.0</td>\n",
       "      <td>1</td>\n",
       "      <td>1</td>\n",
       "      <td>08-03-2014</td>\n",
       "      <td>38</td>\n",
       "      <td>11</td>\n",
       "      <td>...</td>\n",
       "      <td>5</td>\n",
       "      <td>0</td>\n",
       "      <td>0</td>\n",
       "      <td>0</td>\n",
       "      <td>0</td>\n",
       "      <td>0</td>\n",
       "      <td>0</td>\n",
       "      <td>3</td>\n",
       "      <td>11</td>\n",
       "      <td>0</td>\n",
       "    </tr>\n",
       "    <tr>\n",
       "      <th>2</th>\n",
       "      <td>4141</td>\n",
       "      <td>1965</td>\n",
       "      <td>Graduation</td>\n",
       "      <td>Together</td>\n",
       "      <td>71613.0</td>\n",
       "      <td>0</td>\n",
       "      <td>0</td>\n",
       "      <td>21-08-2013</td>\n",
       "      <td>26</td>\n",
       "      <td>426</td>\n",
       "      <td>...</td>\n",
       "      <td>4</td>\n",
       "      <td>0</td>\n",
       "      <td>0</td>\n",
       "      <td>0</td>\n",
       "      <td>0</td>\n",
       "      <td>0</td>\n",
       "      <td>0</td>\n",
       "      <td>3</td>\n",
       "      <td>11</td>\n",
       "      <td>0</td>\n",
       "    </tr>\n",
       "    <tr>\n",
       "      <th>3</th>\n",
       "      <td>6182</td>\n",
       "      <td>1984</td>\n",
       "      <td>Graduation</td>\n",
       "      <td>Together</td>\n",
       "      <td>26646.0</td>\n",
       "      <td>1</td>\n",
       "      <td>0</td>\n",
       "      <td>10-02-2014</td>\n",
       "      <td>26</td>\n",
       "      <td>11</td>\n",
       "      <td>...</td>\n",
       "      <td>6</td>\n",
       "      <td>0</td>\n",
       "      <td>0</td>\n",
       "      <td>0</td>\n",
       "      <td>0</td>\n",
       "      <td>0</td>\n",
       "      <td>0</td>\n",
       "      <td>3</td>\n",
       "      <td>11</td>\n",
       "      <td>0</td>\n",
       "    </tr>\n",
       "    <tr>\n",
       "      <th>4</th>\n",
       "      <td>5324</td>\n",
       "      <td>1981</td>\n",
       "      <td>PhD</td>\n",
       "      <td>Married</td>\n",
       "      <td>58293.0</td>\n",
       "      <td>1</td>\n",
       "      <td>0</td>\n",
       "      <td>19-01-2014</td>\n",
       "      <td>94</td>\n",
       "      <td>173</td>\n",
       "      <td>...</td>\n",
       "      <td>5</td>\n",
       "      <td>0</td>\n",
       "      <td>0</td>\n",
       "      <td>0</td>\n",
       "      <td>0</td>\n",
       "      <td>0</td>\n",
       "      <td>0</td>\n",
       "      <td>3</td>\n",
       "      <td>11</td>\n",
       "      <td>0</td>\n",
       "    </tr>\n",
       "  </tbody>\n",
       "</table>\n",
       "<p>5 rows × 29 columns</p>\n",
       "</div>"
      ],
      "text/plain": [
       "     ID  Year_Birth   Education Marital_Status   Income  Kidhome  Teenhome  \\\n",
       "0  5524        1957  Graduation         Single  58138.0        0         0   \n",
       "1  2174        1954  Graduation         Single  46344.0        1         1   \n",
       "2  4141        1965  Graduation       Together  71613.0        0         0   \n",
       "3  6182        1984  Graduation       Together  26646.0        1         0   \n",
       "4  5324        1981         PhD        Married  58293.0        1         0   \n",
       "\n",
       "  Dt_Customer  Recency  MntWines  ...  NumWebVisitsMonth  AcceptedCmp3  \\\n",
       "0  04-09-2012       58       635  ...                  7             0   \n",
       "1  08-03-2014       38        11  ...                  5             0   \n",
       "2  21-08-2013       26       426  ...                  4             0   \n",
       "3  10-02-2014       26        11  ...                  6             0   \n",
       "4  19-01-2014       94       173  ...                  5             0   \n",
       "\n",
       "   AcceptedCmp4  AcceptedCmp5  AcceptedCmp1  AcceptedCmp2  Complain  \\\n",
       "0             0             0             0             0         0   \n",
       "1             0             0             0             0         0   \n",
       "2             0             0             0             0         0   \n",
       "3             0             0             0             0         0   \n",
       "4             0             0             0             0         0   \n",
       "\n",
       "   Z_CostContact  Z_Revenue  Response  \n",
       "0              3         11         1  \n",
       "1              3         11         0  \n",
       "2              3         11         0  \n",
       "3              3         11         0  \n",
       "4              3         11         0  \n",
       "\n",
       "[5 rows x 29 columns]"
      ]
     },
     "execution_count": 12,
     "metadata": {},
     "output_type": "execute_result"
    }
   ],
   "source": [
    "df = pd.read_csv(\"marketing_campaign.csv\", sep=\"\\t\")\n",
    "print(\"Number of datapoints:\", len(df))\n",
    "df.head()"
   ]
  },
  {
   "cell_type": "markdown",
   "metadata": {},
   "source": [
    "## Basic Exploration & Pre-processing"
   ]
  },
  {
   "cell_type": "code",
   "execution_count": 13,
   "metadata": {},
   "outputs": [
    {
     "name": "stdout",
     "output_type": "stream",
     "text": [
      "<class 'pandas.core.frame.DataFrame'>\n",
      "RangeIndex: 2240 entries, 0 to 2239\n",
      "Data columns (total 29 columns):\n",
      " #   Column               Non-Null Count  Dtype  \n",
      "---  ------               --------------  -----  \n",
      " 0   ID                   2240 non-null   int64  \n",
      " 1   Year_Birth           2240 non-null   int64  \n",
      " 2   Education            2240 non-null   object \n",
      " 3   Marital_Status       2240 non-null   object \n",
      " 4   Income               2216 non-null   float64\n",
      " 5   Kidhome              2240 non-null   int64  \n",
      " 6   Teenhome             2240 non-null   int64  \n",
      " 7   Dt_Customer          2240 non-null   object \n",
      " 8   Recency              2240 non-null   int64  \n",
      " 9   MntWines             2240 non-null   int64  \n",
      " 10  MntFruits            2240 non-null   int64  \n",
      " 11  MntMeatProducts      2240 non-null   int64  \n",
      " 12  MntFishProducts      2240 non-null   int64  \n",
      " 13  MntSweetProducts     2240 non-null   int64  \n",
      " 14  MntGoldProds         2240 non-null   int64  \n",
      " 15  NumDealsPurchases    2240 non-null   int64  \n",
      " 16  NumWebPurchases      2240 non-null   int64  \n",
      " 17  NumCatalogPurchases  2240 non-null   int64  \n",
      " 18  NumStorePurchases    2240 non-null   int64  \n",
      " 19  NumWebVisitsMonth    2240 non-null   int64  \n",
      " 20  AcceptedCmp3         2240 non-null   int64  \n",
      " 21  AcceptedCmp4         2240 non-null   int64  \n",
      " 22  AcceptedCmp5         2240 non-null   int64  \n",
      " 23  AcceptedCmp1         2240 non-null   int64  \n",
      " 24  AcceptedCmp2         2240 non-null   int64  \n",
      " 25  Complain             2240 non-null   int64  \n",
      " 26  Z_CostContact        2240 non-null   int64  \n",
      " 27  Z_Revenue            2240 non-null   int64  \n",
      " 28  Response             2240 non-null   int64  \n",
      "dtypes: float64(1), int64(25), object(3)\n",
      "memory usage: 507.6+ KB\n"
     ]
    }
   ],
   "source": [
    "df.info()"
   ]
  },
  {
   "cell_type": "code",
   "execution_count": 24,
   "metadata": {
    "scrolled": true
   },
   "outputs": [
    {
     "data": {
      "text/plain": [
       "ID                     0\n",
       "Year_Birth             0\n",
       "Education              0\n",
       "Marital_Status         0\n",
       "Income                 0\n",
       "Kidhome                0\n",
       "Teenhome               0\n",
       "Dt_Customer            0\n",
       "Recency                0\n",
       "MntWines               0\n",
       "MntFruits              0\n",
       "MntMeatProducts        0\n",
       "MntFishProducts        0\n",
       "MntSweetProducts       0\n",
       "MntGoldProds           0\n",
       "NumDealsPurchases      0\n",
       "NumWebPurchases        0\n",
       "NumCatalogPurchases    0\n",
       "NumStorePurchases      0\n",
       "NumWebVisitsMonth      0\n",
       "AcceptedCmp3           0\n",
       "AcceptedCmp4           0\n",
       "AcceptedCmp5           0\n",
       "AcceptedCmp1           0\n",
       "AcceptedCmp2           0\n",
       "Complain               0\n",
       "Z_CostContact          0\n",
       "Z_Revenue              0\n",
       "Response               0\n",
       "dtype: int64"
      ]
     },
     "execution_count": 24,
     "metadata": {},
     "output_type": "execute_result"
    }
   ],
   "source": [
    "df.isnull().sum()"
   ]
  },
  {
   "cell_type": "code",
   "execution_count": 19,
   "metadata": {},
   "outputs": [
    {
     "data": {
      "text/plain": [
       "(array([1.654e+03, 5.540e+02, 7.000e+00, 0.000e+00, 0.000e+00, 0.000e+00,\n",
       "        0.000e+00, 0.000e+00, 0.000e+00, 1.000e+00]),\n",
       " array([  1730. ,  68223.6, 134717.2, 201210.8, 267704.4, 334198. ,\n",
       "        400691.6, 467185.2, 533678.8, 600172.4, 666666. ]),\n",
       " <BarContainer object of 10 artists>)"
      ]
     },
     "execution_count": 19,
     "metadata": {},
     "output_type": "execute_result"
    },
    {
     "data": {
      "image/png": "[encoded data removed]",
      "text/plain": [
       "<Figure size 432x288 with 1 Axes>"
      ]
     },
     "metadata": {
      "needs_background": "light"
     },
     "output_type": "display_data"
    }
   ],
   "source": [
    "plt.hist(df['Income'])"
   ]
  },
  {
   "cell_type": "code",
   "execution_count": 23,
   "metadata": {},
   "outputs": [],
   "source": [
    "df['Income']=df['Income'].fillna(df['Income'].median())"
   ]
  },
  {
   "cell_type": "code",
   "execution_count": 27,
   "metadata": {},
   "outputs": [
    {
     "data": {
      "text/plain": [
       "ID                     2240\n",
       "Year_Birth               59\n",
       "Education                 5\n",
       "Marital_Status            8\n",
       "Income                 1975\n",
       "Kidhome                   3\n",
       "Teenhome                  3\n",
       "Dt_Customer             663\n",
       "Recency                 100\n",
       "MntWines                776\n",
       "MntFruits               158\n",
       "MntMeatProducts         558\n",
       "MntFishProducts         182\n",
       "MntSweetProducts        177\n",
       "MntGoldProds            213\n",
       "NumDealsPurchases        15\n",
       "NumWebPurchases          15\n",
       "NumCatalogPurchases      14\n",
       "NumStorePurchases        14\n",
       "NumWebVisitsMonth        16\n",
       "AcceptedCmp3              2\n",
       "AcceptedCmp4              2\n",
       "AcceptedCmp5              2\n",
       "AcceptedCmp1              2\n",
       "AcceptedCmp2              2\n",
       "Complain                  2\n",
       "Z_CostContact             1\n",
       "Z_Revenue                 1\n",
       "Response                  2\n",
       "dtype: int64"
      ]
     },
     "execution_count": 27,
     "metadata": {},
     "output_type": "execute_result"
    }
   ],
   "source": [
    "df.nunique()"
   ]
  },
  {
   "cell_type": "markdown",
   "metadata": {},
   "source": [
    "Z_CostContact and Z_Revenue contain a single value, which are zero-variance predictors that may not contain useful information for modelling. So, I decide to drop them."
   ]
  },
  {
   "cell_type": "code",
   "execution_count": 28,
   "metadata": {},
   "outputs": [],
   "source": [
    "df.drop(['Z_CostContact','Z_Revenue'],axis=1,inplace=True)"
   ]
  },
  {
   "cell_type": "code",
   "execution_count": 239,
   "metadata": {},
   "outputs": [
    {
     "data": {
      "text/html": [
       "<div>\n",
       "<style scoped>\n",
       "    .dataframe tbody tr th:only-of-type {\n",
       "        vertical-align: middle;\n",
       "    }\n",
       "\n",
       "    .dataframe tbody tr th {\n",
       "        vertical-align: top;\n",
       "    }\n",
       "\n",
       "    .dataframe thead th {\n",
       "        text-align: right;\n",
       "    }\n",
       "</style>\n",
       "<table border=\"1\" class=\"dataframe\">\n",
       "  <thead>\n",
       "    <tr style=\"text-align: right;\">\n",
       "      <th></th>\n",
       "      <th>Education</th>\n",
       "      <th>Income</th>\n",
       "      <th>Kidhome</th>\n",
       "      <th>Teenhome</th>\n",
       "      <th>Recency</th>\n",
       "      <th>Wines</th>\n",
       "      <th>Fruits</th>\n",
       "      <th>Meat</th>\n",
       "      <th>Fish</th>\n",
       "      <th>Sweets</th>\n",
       "      <th>...</th>\n",
       "      <th>Days_enrolled</th>\n",
       "      <th>Age</th>\n",
       "      <th>Living_status</th>\n",
       "      <th>Children</th>\n",
       "      <th>Parent</th>\n",
       "      <th>Family_size</th>\n",
       "      <th>Spent</th>\n",
       "      <th>Clusters</th>\n",
       "      <th>Clusters_K</th>\n",
       "      <th>Total_Promos</th>\n",
       "    </tr>\n",
       "  </thead>\n",
       "  <tbody>\n",
       "    <tr>\n",
       "      <th>count</th>\n",
       "      <td>1978.000000</td>\n",
       "      <td>1978.000000</td>\n",
       "      <td>1978.000000</td>\n",
       "      <td>1978.000000</td>\n",
       "      <td>1978.000000</td>\n",
       "      <td>1978.000000</td>\n",
       "      <td>1978.000000</td>\n",
       "      <td>1978.000000</td>\n",
       "      <td>1978.000000</td>\n",
       "      <td>1978.000000</td>\n",
       "      <td>...</td>\n",
       "      <td>1978.000000</td>\n",
       "      <td>1978.000000</td>\n",
       "      <td>1978.000000</td>\n",
       "      <td>1978.000000</td>\n",
       "      <td>1978.000000</td>\n",
       "      <td>1978.000000</td>\n",
       "      <td>1978.000000</td>\n",
       "      <td>1978.000000</td>\n",
       "      <td>1978.000000</td>\n",
       "      <td>1978.000000</td>\n",
       "    </tr>\n",
       "    <tr>\n",
       "      <th>mean</th>\n",
       "      <td>0.623357</td>\n",
       "      <td>49263.832912</td>\n",
       "      <td>0.482305</td>\n",
       "      <td>0.528817</td>\n",
       "      <td>49.300303</td>\n",
       "      <td>272.295753</td>\n",
       "      <td>19.774014</td>\n",
       "      <td>132.138018</td>\n",
       "      <td>28.659252</td>\n",
       "      <td>20.414055</td>\n",
       "      <td>...</td>\n",
       "      <td>505.627907</td>\n",
       "      <td>53.044995</td>\n",
       "      <td>1.650152</td>\n",
       "      <td>1.011122</td>\n",
       "      <td>0.762386</td>\n",
       "      <td>2.661274</td>\n",
       "      <td>510.604146</td>\n",
       "      <td>0.890293</td>\n",
       "      <td>1.952477</td>\n",
       "      <td>0.254297</td>\n",
       "    </tr>\n",
       "    <tr>\n",
       "      <th>std</th>\n",
       "      <td>0.680831</td>\n",
       "      <td>19503.393831</td>\n",
       "      <td>0.545307</td>\n",
       "      <td>0.543903</td>\n",
       "      <td>28.988212</td>\n",
       "      <td>319.535688</td>\n",
       "      <td>29.661315</td>\n",
       "      <td>180.895109</td>\n",
       "      <td>41.978523</td>\n",
       "      <td>30.694490</td>\n",
       "      <td>...</td>\n",
       "      <td>230.636758</td>\n",
       "      <td>11.609281</td>\n",
       "      <td>0.477042</td>\n",
       "      <td>0.732149</td>\n",
       "      <td>0.425729</td>\n",
       "      <td>0.884033</td>\n",
       "      <td>539.466639</td>\n",
       "      <td>0.959787</td>\n",
       "      <td>0.872074</td>\n",
       "      <td>0.609771</td>\n",
       "    </tr>\n",
       "    <tr>\n",
       "      <th>min</th>\n",
       "      <td>0.000000</td>\n",
       "      <td>7500.000000</td>\n",
       "      <td>0.000000</td>\n",
       "      <td>0.000000</td>\n",
       "      <td>0.000000</td>\n",
       "      <td>0.000000</td>\n",
       "      <td>0.000000</td>\n",
       "      <td>0.000000</td>\n",
       "      <td>0.000000</td>\n",
       "      <td>0.000000</td>\n",
       "      <td>...</td>\n",
       "      <td>0.000000</td>\n",
       "      <td>26.000000</td>\n",
       "      <td>1.000000</td>\n",
       "      <td>0.000000</td>\n",
       "      <td>0.000000</td>\n",
       "      <td>1.000000</td>\n",
       "      <td>8.000000</td>\n",
       "      <td>0.000000</td>\n",
       "      <td>0.000000</td>\n",
       "      <td>0.000000</td>\n",
       "    </tr>\n",
       "    <tr>\n",
       "      <th>25%</th>\n",
       "      <td>0.000000</td>\n",
       "      <td>34125.750000</td>\n",
       "      <td>0.000000</td>\n",
       "      <td>0.000000</td>\n",
       "      <td>24.000000</td>\n",
       "      <td>20.000000</td>\n",
       "      <td>1.000000</td>\n",
       "      <td>14.000000</td>\n",
       "      <td>2.000000</td>\n",
       "      <td>1.000000</td>\n",
       "      <td>...</td>\n",
       "      <td>337.000000</td>\n",
       "      <td>45.000000</td>\n",
       "      <td>1.000000</td>\n",
       "      <td>1.000000</td>\n",
       "      <td>1.000000</td>\n",
       "      <td>2.000000</td>\n",
       "      <td>62.000000</td>\n",
       "      <td>0.000000</td>\n",
       "      <td>1.000000</td>\n",
       "      <td>0.000000</td>\n",
       "    </tr>\n",
       "    <tr>\n",
       "      <th>50%</th>\n",
       "      <td>1.000000</td>\n",
       "      <td>48606.000000</td>\n",
       "      <td>0.000000</td>\n",
       "      <td>1.000000</td>\n",
       "      <td>50.000000</td>\n",
       "      <td>135.000000</td>\n",
       "      <td>7.000000</td>\n",
       "      <td>51.000000</td>\n",
       "      <td>10.000000</td>\n",
       "      <td>7.000000</td>\n",
       "      <td>...</td>\n",
       "      <td>505.500000</td>\n",
       "      <td>52.000000</td>\n",
       "      <td>2.000000</td>\n",
       "      <td>1.000000</td>\n",
       "      <td>1.000000</td>\n",
       "      <td>3.000000</td>\n",
       "      <td>275.000000</td>\n",
       "      <td>1.000000</td>\n",
       "      <td>2.000000</td>\n",
       "      <td>0.000000</td>\n",
       "    </tr>\n",
       "    <tr>\n",
       "      <th>75%</th>\n",
       "      <td>1.000000</td>\n",
       "      <td>64719.750000</td>\n",
       "      <td>1.000000</td>\n",
       "      <td>1.000000</td>\n",
       "      <td>74.000000</td>\n",
       "      <td>445.000000</td>\n",
       "      <td>25.000000</td>\n",
       "      <td>169.000000</td>\n",
       "      <td>36.000000</td>\n",
       "      <td>26.000000</td>\n",
       "      <td>...</td>\n",
       "      <td>674.000000</td>\n",
       "      <td>62.000000</td>\n",
       "      <td>2.000000</td>\n",
       "      <td>1.000000</td>\n",
       "      <td>1.000000</td>\n",
       "      <td>3.000000</td>\n",
       "      <td>899.750000</td>\n",
       "      <td>1.000000</td>\n",
       "      <td>3.000000</td>\n",
       "      <td>0.000000</td>\n",
       "    </tr>\n",
       "    <tr>\n",
       "      <th>max</th>\n",
       "      <td>2.000000</td>\n",
       "      <td>101970.000000</td>\n",
       "      <td>2.000000</td>\n",
       "      <td>2.000000</td>\n",
       "      <td>99.000000</td>\n",
       "      <td>1311.000000</td>\n",
       "      <td>143.000000</td>\n",
       "      <td>843.000000</td>\n",
       "      <td>201.000000</td>\n",
       "      <td>150.000000</td>\n",
       "      <td>...</td>\n",
       "      <td>1063.000000</td>\n",
       "      <td>82.000000</td>\n",
       "      <td>2.000000</td>\n",
       "      <td>3.000000</td>\n",
       "      <td>1.000000</td>\n",
       "      <td>5.000000</td>\n",
       "      <td>2349.000000</td>\n",
       "      <td>3.000000</td>\n",
       "      <td>3.000000</td>\n",
       "      <td>4.000000</td>\n",
       "    </tr>\n",
       "  </tbody>\n",
       "</table>\n",
       "<p>8 rows × 33 columns</p>\n",
       "</div>"
      ],
      "text/plain": [
       "         Education         Income      Kidhome     Teenhome      Recency  \\\n",
       "count  1978.000000    1978.000000  1978.000000  1978.000000  1978.000000   \n",
       "mean      0.623357   49263.832912     0.482305     0.528817    49.300303   \n",
       "std       0.680831   19503.393831     0.545307     0.543903    28.988212   \n",
       "min       0.000000    7500.000000     0.000000     0.000000     0.000000   \n",
       "25%       0.000000   34125.750000     0.000000     0.000000    24.000000   \n",
       "50%       1.000000   48606.000000     0.000000     1.000000    50.000000   \n",
       "75%       1.000000   64719.750000     1.000000     1.000000    74.000000   \n",
       "max       2.000000  101970.000000     2.000000     2.000000    99.000000   \n",
       "\n",
       "             Wines       Fruits         Meat         Fish       Sweets  ...  \\\n",
       "count  1978.000000  1978.000000  1978.000000  1978.000000  1978.000000  ...   \n",
       "mean    272.295753    19.774014   132.138018    28.659252    20.414055  ...   \n",
       "std     319.535688    29.661315   180.895109    41.978523    30.694490  ...   \n",
       "min       0.000000     0.000000     0.000000     0.000000     0.000000  ...   \n",
       "25%      20.000000     1.000000    14.000000     2.000000     1.000000  ...   \n",
       "50%     135.000000     7.000000    51.000000    10.000000     7.000000  ...   \n",
       "75%     445.000000    25.000000   169.000000    36.000000    26.000000  ...   \n",
       "max    1311.000000   143.000000   843.000000   201.000000   150.000000  ...   \n",
       "\n",
       "       Days_enrolled          Age  Living_status     Children       Parent  \\\n",
       "count    1978.000000  1978.000000    1978.000000  1978.000000  1978.000000   \n",
       "mean      505.627907    53.044995       1.650152     1.011122     0.762386   \n",
       "std       230.636758    11.609281       0.477042     0.732149     0.425729   \n",
       "min         0.000000    26.000000       1.000000     0.000000     0.000000   \n",
       "25%       337.000000    45.000000       1.000000     1.000000     1.000000   \n",
       "50%       505.500000    52.000000       2.000000     1.000000     1.000000   \n",
       "75%       674.000000    62.000000       2.000000     1.000000     1.000000   \n",
       "max      1063.000000    82.000000       2.000000     3.000000     1.000000   \n",
       "\n",
       "       Family_size        Spent     Clusters   Clusters_K  Total_Promos  \n",
       "count  1978.000000  1978.000000  1978.000000  1978.000000   1978.000000  \n",
       "mean      2.661274   510.604146     0.890293     1.952477      0.254297  \n",
       "std       0.884033   539.466639     0.959787     0.872074      0.609771  \n",
       "min       1.000000     8.000000     0.000000     0.000000      0.000000  \n",
       "25%       2.000000    62.000000     0.000000     1.000000      0.000000  \n",
       "50%       3.000000   275.000000     1.000000     2.000000      0.000000  \n",
       "75%       3.000000   899.750000     1.000000     3.000000      0.000000  \n",
       "max       5.000000  2349.000000     3.000000     3.000000      4.000000  \n",
       "\n",
       "[8 rows x 33 columns]"
      ]
     },
     "execution_count": 239,
     "metadata": {},
     "output_type": "execute_result"
    }
   ],
   "source": [
    "df.describe()"
   ]
  },
  {
   "cell_type": "markdown",
   "metadata": {},
   "source": [
    "From the statistical summary above, it can be seem that there are outlier in our data. So, I decide to run a outlier check and remove the outlier."
   ]
  },
  {
   "cell_type": "code",
   "execution_count": 31,
   "metadata": {},
   "outputs": [
    {
     "data": {
      "text/plain": [
       "['ID',\n",
       " 'Year_Birth',\n",
       " 'Education',\n",
       " 'Marital_Status',\n",
       " 'Income',\n",
       " 'Kidhome',\n",
       " 'Teenhome',\n",
       " 'Dt_Customer',\n",
       " 'Recency',\n",
       " 'MntWines',\n",
       " 'MntFruits',\n",
       " 'MntMeatProducts',\n",
       " 'MntFishProducts',\n",
       " 'MntSweetProducts',\n",
       " 'MntGoldProds',\n",
       " 'NumDealsPurchases',\n",
       " 'NumWebPurchases',\n",
       " 'NumCatalogPurchases',\n",
       " 'NumStorePurchases',\n",
       " 'NumWebVisitsMonth',\n",
       " 'AcceptedCmp3',\n",
       " 'AcceptedCmp4',\n",
       " 'AcceptedCmp5',\n",
       " 'AcceptedCmp1',\n",
       " 'AcceptedCmp2',\n",
       " 'Complain',\n",
       " 'Response']"
      ]
     },
     "execution_count": 31,
     "metadata": {},
     "output_type": "execute_result"
    }
   ],
   "source": [
    "#filter out the non-numerical features\n",
    "num=[col for col in df.columns\n",
    "    if type(col) !='object']\n",
    "num"
   ]
  },
  {
   "cell_type": "code",
   "execution_count": 32,
   "metadata": {},
   "outputs": [],
   "source": [
    "#filter out categorical features, such as \n",
    "num_col=['Year_Birth',\n",
    " 'Income',\n",
    " 'Recency',\n",
    " 'MntWines',\n",
    " 'MntFruits',\n",
    " 'MntMeatProducts',\n",
    " 'MntFishProducts',\n",
    " 'MntSweetProducts',\n",
    " 'MntGoldProds',\n",
    " 'NumDealsPurchases',\n",
    " 'NumWebPurchases',\n",
    " 'NumCatalogPurchases',\n",
    " 'NumStorePurchases',\n",
    " 'NumWebVisitsMonth']"
   ]
  },
  {
   "cell_type": "code",
   "execution_count": 34,
   "metadata": {},
   "outputs": [
    {
     "name": "stdout",
     "output_type": "stream",
     "text": [
      "      Year_Birth    Income   Recency  MntWines  MntFruits  MntMeatProducts  \\\n",
      "0       0.985345  0.235696  0.307039  0.983781   1.551577         1.679702   \n",
      "1       1.235733  0.235454  0.383664  0.870479   0.636301         0.713225   \n",
      "2       0.317643  0.773999  0.798086  0.362723   0.570804         0.177032   \n",
      "3       1.268149  1.022355  0.798086  0.870479   0.560857         0.651187   \n",
      "4       1.017761  0.241888  1.550305  0.389085   0.419916         0.216914   \n",
      "...          ...       ...       ...       ...        ...              ...   \n",
      "2235    0.150717  0.358936  0.107383  1.203678   0.419916         0.066692   \n",
      "2236    1.903435  0.470432  0.237969  0.303291   0.661449         0.606873   \n",
      "2237    1.017761  0.189476  1.446700  1.795020   0.545656         0.221789   \n",
      "2238    1.068807  0.679401  1.419719  0.368666   0.092992         0.208495   \n",
      "2239    1.235733  0.025208  0.314594  0.653555   0.586005         0.469501   \n",
      "\n",
      "      MntFishProducts  MntSweetProducts  MntGoldProds  NumDealsPurchases  \\\n",
      "0            2.462147          1.476500      0.843207           0.349414   \n",
      "1            0.650449          0.631503      0.729006           0.168236   \n",
      "2            1.345274          0.146905      0.038766           0.685887   \n",
      "3            0.503974          0.583043      0.748179           0.168236   \n",
      "4            0.155164          0.001525      0.556446           1.384715   \n",
      "...               ...               ...           ...                ...   \n",
      "2235         0.081926          2.203398      3.891766           0.168236   \n",
      "2236         0.687068          0.655733      0.690659           2.420015   \n",
      "2237         0.101168          0.364974      0.383886           0.685887   \n",
      "2238         0.777683          0.071165      0.325527           0.168236   \n",
      "2239         0.650449          0.631503      0.441406           0.349414   \n",
      "\n",
      "      NumWebPurchases  NumCatalogPurchases  NumStorePurchases  \\\n",
      "0            1.409304             2.510890           0.550785   \n",
      "1            1.110409             0.568720           1.166125   \n",
      "2            1.409304             0.226541           1.295237   \n",
      "3            0.750450             0.910898           0.550785   \n",
      "4            0.329427             0.115638           0.064556   \n",
      "...               ...                  ...                ...   \n",
      "2235         1.769263             0.115638           0.550785   \n",
      "2236         1.409304             0.226541           0.243114   \n",
      "2237         0.750450             0.115638           2.218248   \n",
      "2238         0.689386             0.799996           1.295237   \n",
      "2239         0.390491             0.568720           0.550785   \n",
      "\n",
      "      NumWebVisitsMonth  \n",
      "0              0.693904  \n",
      "1              0.130463  \n",
      "2              0.542647  \n",
      "3              0.281720  \n",
      "4              0.130463  \n",
      "...                 ...  \n",
      "2235           0.130463  \n",
      "2236           0.693904  \n",
      "2237           0.281720  \n",
      "2238           0.954831  \n",
      "2239           0.693904  \n",
      "\n",
      "[2240 rows x 14 columns]\n"
     ]
    }
   ],
   "source": [
    "# Z score\n",
    "from scipy import stats\n",
    "z = np.abs(stats.zscore(df[num_col]))\n",
    "print(z)"
   ]
  },
  {
   "cell_type": "code",
   "execution_count": 35,
   "metadata": {},
   "outputs": [
    {
     "name": "stdout",
     "output_type": "stream",
     "text": [
      "(array([   9,   12,   21,   21,   21,   27,   27,   27,   40,   45,   45,\n",
      "         49,   51,   53,   76,   90,   98,  102,  109,  111,  126,  126,\n",
      "        140,  161,  164,  164,  164,  164,  168,  179,  192,  197,  198,\n",
      "        201,  203,  213,  214,  230,  239,  240,  243,  243,  249,  252,\n",
      "        252,  266,  266,  276,  287,  288,  292,  292,  305,  305,  336,\n",
      "        339,  339,  345,  347,  347,  360,  360,  360,  368,  392,  404,\n",
      "        419,  429,  432,  447,  447,  456,  456,  459,  461,  463,  463,\n",
      "        470,  492,  497,  506,  523,  528,  528,  537,  543,  546,  557,\n",
      "        559,  561,  561,  586,  591,  591,  617,  626,  634,  646,  646,\n",
      "        646,  655,  672,  687,  687,  687,  687,  702,  715,  723,  723,\n",
      "        723,  753,  764,  766,  766,  771,  774,  779,  780,  790,  803,\n",
      "        809,  812,  814,  817,  824,  825,  845,  846,  852,  852,  855,\n",
      "        855,  875,  895,  897,  905,  906,  914,  914,  917,  921,  924,\n",
      "        926,  928,  934,  966,  981,  984,  984,  987, 1010, 1010, 1016,\n",
      "       1031, 1031, 1040, 1042, 1042, 1050, 1052, 1060, 1075, 1089, 1100,\n",
      "       1100, 1111, 1133, 1133, 1147, 1156, 1157, 1157, 1161, 1168, 1179,\n",
      "       1190, 1199, 1199, 1213, 1245, 1245, 1253, 1259, 1259, 1259, 1265,\n",
      "       1265, 1266, 1278, 1280, 1280, 1288, 1288, 1298, 1298, 1300, 1311,\n",
      "       1313, 1313, 1325, 1328, 1328, 1333, 1342, 1355, 1358, 1413, 1421,\n",
      "       1421, 1444, 1444, 1446, 1451, 1476, 1480, 1480, 1484, 1488, 1490,\n",
      "       1492, 1495, 1495, 1503, 1506, 1507, 1508, 1508, 1513, 1521, 1524,\n",
      "       1525, 1526, 1528, 1542, 1552, 1569, 1572, 1589, 1591, 1601, 1601,\n",
      "       1612, 1622, 1623, 1641, 1641, 1644, 1651, 1653, 1653, 1653, 1660,\n",
      "       1671, 1686, 1699, 1713, 1713, 1721, 1722, 1729, 1733, 1749, 1788,\n",
      "       1788, 1799, 1803, 1806, 1806, 1808, 1808, 1813, 1813, 1824, 1824,\n",
      "       1827, 1839, 1846, 1846, 1852, 1853, 1865, 1871, 1876, 1877, 1877,\n",
      "       1891, 1898, 1898, 1910, 1921, 1921, 1922, 1943, 1946, 1946, 1958,\n",
      "       1960, 1961, 1965, 1975, 1975, 1976, 2006, 2010, 2012, 2013, 2024,\n",
      "       2033, 2039, 2041, 2048, 2048, 2056, 2065, 2071, 2093, 2093, 2096,\n",
      "       2096, 2098, 2109, 2123, 2131, 2132, 2151, 2151, 2168, 2168, 2172,\n",
      "       2173, 2176, 2178, 2193, 2193, 2211, 2214, 2217, 2228, 2233, 2235],\n",
      "      dtype=int64), array([13,  6,  5,  9, 11,  7,  8, 10,  7,  4,  6,  9,  7,  8,  5,  9,  8,\n",
      "        4,  4,  3,  5,  8,  5,  3,  1,  5,  9, 11,  4,  8,  0,  7,  4,  6,\n",
      "        7,  9,  6,  9,  0,  7,  4,  6,  6,  4,  7,  6,  8,  4,  9,  4,  6,\n",
      "        8,  4,  6,  4,  0,  8,  7,  7,  8,  4,  6,  7,  8,  4,  9,  9,  7,\n",
      "        9,  4,  7,  5,  7,  6,  7,  6,  8,  7,  6,  3,  4,  3,  4,  6,  4,\n",
      "        3,  5,  7,  3,  4,  5,  8,  4,  7,  1,  6,  7,  4,  6,  8,  1,  4,\n",
      "        1,  5,  9, 11,  8,  7,  4,  7,  8,  4,  8,  5,  6,  8, 13,  6,  7,\n",
      "        4,  4,  7,  4,  7,  7,  3,  7,  5,  8,  5,  6,  4,  6,  6,  8,  7,\n",
      "        8,  5,  5,  6,  3,  6,  6,  6,  4,  8,  5, 13,  4,  8,  3,  6,  7,\n",
      "        7,  4,  5,  8,  9, 13,  7,  3,  9,  4,  6,  4,  7,  7,  5,  6,  9,\n",
      "        9,  6,  7,  9,  7,  5,  6,  6,  7,  5,  9, 13,  7,  5,  6,  7,  4,\n",
      "        7,  9,  8,  4,  8,  4,  8,  6,  7,  1,  6,  4,  7,  8,  8, 13,  7,\n",
      "        9,  4,  5,  6,  4,  8,  4,  6,  7,  4,  6,  4,  6,  7,  3,  9,  4,\n",
      "        4,  6,  9,  9,  7,  4,  7,  7,  6, 13,  9,  4,  7,  7,  4,  9,  5,\n",
      "        4,  7,  6,  7,  4,  6,  9,  3,  8,  6,  7,  1,  5, 11,  9,  7,  5,\n",
      "        6,  5,  6,  5,  5,  7,  4,  3,  6,  9,  6,  9,  8, 10,  5,  6,  4,\n",
      "        7,  7,  8,  6,  9,  9, 13,  5,  4,  9,  4,  8,  7,  8,  4,  7, 10,\n",
      "        4,  4,  7,  3,  8,  4,  6,  5,  7,  3,  4,  8, 10,  4,  6,  5,  7,\n",
      "        6,  8,  8,  4,  9,  4,  6,  4,  7,  4,  6,  8,  6,  7,  3,  5,  8,\n",
      "        5,  1,  5,  6,  7,  8,  4,  8,  6,  8,  5,  6,  5, 13,  4,  5,  1,\n",
      "        8], dtype=int64))\n"
     ]
    }
   ],
   "source": [
    "threshold = 3\n",
    " \n",
    "# Position of the outlier\n",
    "print(np.where(z > 3))"
   ]
  },
  {
   "cell_type": "code",
   "execution_count": 37,
   "metadata": {},
   "outputs": [],
   "source": [
    "# As 99.7% of the data points lie between +/- 3 standard deviation\n",
    "#(using Gaussian Distribution approach).\n",
    "outlier=np.where(z > 3)\n",
    "df.drop(outlier[0], inplace = True)"
   ]
  },
  {
   "cell_type": "code",
   "execution_count": 47,
   "metadata": {},
   "outputs": [
    {
     "data": {
      "text/plain": [
       "(1978, 27)"
      ]
     },
     "execution_count": 47,
     "metadata": {},
     "output_type": "execute_result"
    }
   ],
   "source": [
    "df.shape"
   ]
  },
  {
   "cell_type": "code",
   "execution_count": 49,
   "metadata": {
    "scrolled": true
   },
   "outputs": [
    {
     "data": {
      "text/plain": [
       "Married     766\n",
       "Together    520\n",
       "Single      416\n",
       "Divorced    207\n",
       "Widow        63\n",
       "Alone         3\n",
       "YOLO          2\n",
       "Absurd        1\n",
       "Name: Marital_Status, dtype: int64"
      ]
     },
     "execution_count": 49,
     "metadata": {},
     "output_type": "execute_result"
    }
   ],
   "source": [
    "df['Marital_Status'].value_counts()"
   ]
  },
  {
   "cell_type": "code",
   "execution_count": 82,
   "metadata": {},
   "outputs": [
    {
     "data": {
      "text/plain": [
       "Graduation    971\n",
       "PhD           444\n",
       "Master        337\n",
       "2n Cycle      173\n",
       "Basic          53\n",
       "Name: Education, dtype: int64"
      ]
     },
     "execution_count": 82,
     "metadata": {},
     "output_type": "execute_result"
    }
   ],
   "source": [
    "df['Education'].value_counts()"
   ]
  },
  {
   "cell_type": "code",
   "execution_count": 51,
   "metadata": {},
   "outputs": [
    {
     "data": {
      "text/plain": [
       "31-08-2012    12\n",
       "12-09-2012    10\n",
       "20-08-2013    10\n",
       "12-05-2014    10\n",
       "02-01-2013     9\n",
       "              ..\n",
       "09-11-2013     1\n",
       "13-08-2013     1\n",
       "03-01-2013     1\n",
       "04-11-2012     1\n",
       "09-01-2014     1\n",
       "Name: Dt_Customer, Length: 648, dtype: int64"
      ]
     },
     "execution_count": 51,
     "metadata": {},
     "output_type": "execute_result"
    }
   ],
   "source": [
    "df['Dt_Customer'].value_counts()"
   ]
  },
  {
   "cell_type": "code",
   "execution_count": 77,
   "metadata": {},
   "outputs": [],
   "source": [
    "df['Dt_Customer']=pd.to_datetime(df['Dt_Customer'])"
   ]
  },
  {
   "cell_type": "code",
   "execution_count": 56,
   "metadata": {},
   "outputs": [
    {
     "data": {
      "text/plain": [
       "976    2012-01-08\n",
       "2194   2012-01-08\n",
       "2029   2012-01-08\n",
       "724    2012-01-08\n",
       "1473   2012-01-09\n",
       "          ...    \n",
       "153    2014-12-05\n",
       "50     2014-12-05\n",
       "88     2014-12-05\n",
       "1034   2014-12-05\n",
       "2003   2014-12-06\n",
       "Name: Dt_Customer, Length: 1978, dtype: datetime64[ns]"
      ]
     },
     "execution_count": 56,
     "metadata": {},
     "output_type": "execute_result"
    }
   ],
   "source": [
    "df['Dt_Customer'].sort_values(ascending=True)"
   ]
  },
  {
   "cell_type": "markdown",
   "metadata": {},
   "source": [
    "The newest customer's enrollment date in therecords: 2014-12-06\n",
    "The oldest customer's enrollment date in the records: 2012-01-08\n",
    "\n",
    "From data exploration, we see that data cleaning process is needed for serveral columns, such as education, year of birth, and number of chidren etc.\n",
    "\n",
    "Before tuning these categorical features into numerical values, we start with re-processing the features to abstract more information from the given dataset.\n",
    "\n",
    "- Calculate the enrollment date of each customer based on the enrollment date\n",
    "\n",
    "- Calculate the age of each customer based on their birth year\n"
   ]
  },
  {
   "cell_type": "code",
   "execution_count": 78,
   "metadata": {},
   "outputs": [],
   "source": [
    "dates = []\n",
    "for i in df[\"Dt_Customer\"]:\n",
    "    i = i.date()\n",
    "    dates.append(i) "
   ]
  },
  {
   "cell_type": "code",
   "execution_count": 79,
   "metadata": {},
   "outputs": [],
   "source": [
    "days = []\n",
    "d1 = max(dates) #taking it to be the newest customer\n",
    "for i in dates:\n",
    "    delta = d1 - i\n",
    "    days.append(delta)\n",
    "df['Days_enrolled']=days"
   ]
  },
  {
   "cell_type": "code",
   "execution_count": 80,
   "metadata": {},
   "outputs": [],
   "source": [
    "df['Days_enrolled']=pd.to_numeric(df['Days_enrolled'].dt.days, downcast='integer')"
   ]
  },
  {
   "cell_type": "code",
   "execution_count": null,
   "metadata": {},
   "outputs": [],
   "source": [
    "# Age of customer\n",
    "df['Age']=2022-df['Year_Birth']"
   ]
  },
  {
   "cell_type": "markdown",
   "metadata": {},
   "source": [
    "\n",
    "- Combine labels that have similar meaning for catergorical data\n",
    "\n",
    "- Add new features from given data to adstract more information for each customer's profile, such as family size and number of the children"
   ]
  },
  {
   "cell_type": "code",
   "execution_count": 108,
   "metadata": {},
   "outputs": [],
   "source": [
    "group={'Married':'Couple','Together':'Couple','Absurd':'Single','Widow':'Single',\n",
    "      'YOLO':'Single','Divorced':'Single','Alone':'Single'}\n",
    "df['Living_status']=df['Marital_Status'].replace(group)"
   ]
  },
  {
   "cell_type": "code",
   "execution_count": 104,
   "metadata": {},
   "outputs": [],
   "source": [
    "df['Children']=df['Kidhome']+df['Teenhome']"
   ]
  },
  {
   "cell_type": "code",
   "execution_count": 89,
   "metadata": {},
   "outputs": [],
   "source": [
    "# segment education levels\n",
    "edu={'Basic':'Undergraduate','2n Cycle':'Undergraduate','Graduation':'Graduate',\n",
    "    'Master':'Postgraduate','PhD':'Postgraduate'}\n",
    "df['Education']=df['Education'].replace(edu)"
   ]
  },
  {
   "cell_type": "code",
   "execution_count": 96,
   "metadata": {},
   "outputs": [],
   "source": [
    "# Find parenthood and familiy size\n",
    "df['Parent']=np.where(df.Children>0,1,0)\n"
   ]
  },
  {
   "cell_type": "code",
   "execution_count": 123,
   "metadata": {
    "scrolled": false
   },
   "outputs": [],
   "source": [
    "df['Living_status']=df['Living_status'].replace({'Single':1,'Couple':2})"
   ]
  },
  {
   "cell_type": "code",
   "execution_count": 124,
   "metadata": {},
   "outputs": [],
   "source": [
    "df['Family_size']=df['Living_status']+df['Children']"
   ]
  },
  {
   "cell_type": "code",
   "execution_count": 112,
   "metadata": {},
   "outputs": [
    {
     "data": {
      "text/plain": [
       "1    1065\n",
       "0     470\n",
       "2     394\n",
       "3      49\n",
       "Name: Children, dtype: int64"
      ]
     },
     "execution_count": 112,
     "metadata": {},
     "output_type": "execute_result"
    }
   ],
   "source": [
    "df['Children'].value_counts()"
   ]
  },
  {
   "cell_type": "code",
   "execution_count": 125,
   "metadata": {},
   "outputs": [
    {
     "data": {
      "text/html": [
       "<div>\n",
       "<style scoped>\n",
       "    .dataframe tbody tr th:only-of-type {\n",
       "        vertical-align: middle;\n",
       "    }\n",
       "\n",
       "    .dataframe tbody tr th {\n",
       "        vertical-align: top;\n",
       "    }\n",
       "\n",
       "    .dataframe thead th {\n",
       "        text-align: right;\n",
       "    }\n",
       "</style>\n",
       "<table border=\"1\" class=\"dataframe\">\n",
       "  <thead>\n",
       "    <tr style=\"text-align: right;\">\n",
       "      <th></th>\n",
       "      <th>Education</th>\n",
       "      <th>Income</th>\n",
       "      <th>Kidhome</th>\n",
       "      <th>Teenhome</th>\n",
       "      <th>Recency</th>\n",
       "      <th>Wines</th>\n",
       "      <th>Fruits</th>\n",
       "      <th>Meat</th>\n",
       "      <th>Fish</th>\n",
       "      <th>Sweets</th>\n",
       "      <th>...</th>\n",
       "      <th>AcceptedCmp1</th>\n",
       "      <th>AcceptedCmp2</th>\n",
       "      <th>Complain</th>\n",
       "      <th>Response</th>\n",
       "      <th>Days_enrolled</th>\n",
       "      <th>Age</th>\n",
       "      <th>Living_status</th>\n",
       "      <th>Children</th>\n",
       "      <th>Parent</th>\n",
       "      <th>Family_size</th>\n",
       "    </tr>\n",
       "  </thead>\n",
       "  <tbody>\n",
       "    <tr>\n",
       "      <th>0</th>\n",
       "      <td>Graduate</td>\n",
       "      <td>58138.0</td>\n",
       "      <td>0</td>\n",
       "      <td>0</td>\n",
       "      <td>58</td>\n",
       "      <td>635</td>\n",
       "      <td>88</td>\n",
       "      <td>546</td>\n",
       "      <td>172</td>\n",
       "      <td>88</td>\n",
       "      <td>...</td>\n",
       "      <td>0</td>\n",
       "      <td>0</td>\n",
       "      <td>0</td>\n",
       "      <td>1</td>\n",
       "      <td>971</td>\n",
       "      <td>65</td>\n",
       "      <td>1</td>\n",
       "      <td>0</td>\n",
       "      <td>0</td>\n",
       "      <td>1</td>\n",
       "    </tr>\n",
       "    <tr>\n",
       "      <th>1</th>\n",
       "      <td>Graduate</td>\n",
       "      <td>46344.0</td>\n",
       "      <td>1</td>\n",
       "      <td>1</td>\n",
       "      <td>38</td>\n",
       "      <td>11</td>\n",
       "      <td>1</td>\n",
       "      <td>6</td>\n",
       "      <td>2</td>\n",
       "      <td>1</td>\n",
       "      <td>...</td>\n",
       "      <td>0</td>\n",
       "      <td>0</td>\n",
       "      <td>0</td>\n",
       "      <td>0</td>\n",
       "      <td>125</td>\n",
       "      <td>68</td>\n",
       "      <td>1</td>\n",
       "      <td>2</td>\n",
       "      <td>1</td>\n",
       "      <td>3</td>\n",
       "    </tr>\n",
       "    <tr>\n",
       "      <th>2</th>\n",
       "      <td>Graduate</td>\n",
       "      <td>71613.0</td>\n",
       "      <td>0</td>\n",
       "      <td>0</td>\n",
       "      <td>26</td>\n",
       "      <td>426</td>\n",
       "      <td>49</td>\n",
       "      <td>127</td>\n",
       "      <td>111</td>\n",
       "      <td>21</td>\n",
       "      <td>...</td>\n",
       "      <td>0</td>\n",
       "      <td>0</td>\n",
       "      <td>0</td>\n",
       "      <td>0</td>\n",
       "      <td>472</td>\n",
       "      <td>57</td>\n",
       "      <td>2</td>\n",
       "      <td>0</td>\n",
       "      <td>0</td>\n",
       "      <td>2</td>\n",
       "    </tr>\n",
       "    <tr>\n",
       "      <th>3</th>\n",
       "      <td>Graduate</td>\n",
       "      <td>26646.0</td>\n",
       "      <td>1</td>\n",
       "      <td>0</td>\n",
       "      <td>26</td>\n",
       "      <td>11</td>\n",
       "      <td>4</td>\n",
       "      <td>20</td>\n",
       "      <td>10</td>\n",
       "      <td>3</td>\n",
       "      <td>...</td>\n",
       "      <td>0</td>\n",
       "      <td>0</td>\n",
       "      <td>0</td>\n",
       "      <td>0</td>\n",
       "      <td>65</td>\n",
       "      <td>38</td>\n",
       "      <td>2</td>\n",
       "      <td>1</td>\n",
       "      <td>1</td>\n",
       "      <td>3</td>\n",
       "    </tr>\n",
       "    <tr>\n",
       "      <th>4</th>\n",
       "      <td>Postgraduate</td>\n",
       "      <td>58293.0</td>\n",
       "      <td>1</td>\n",
       "      <td>0</td>\n",
       "      <td>94</td>\n",
       "      <td>173</td>\n",
       "      <td>43</td>\n",
       "      <td>118</td>\n",
       "      <td>46</td>\n",
       "      <td>27</td>\n",
       "      <td>...</td>\n",
       "      <td>0</td>\n",
       "      <td>0</td>\n",
       "      <td>0</td>\n",
       "      <td>0</td>\n",
       "      <td>321</td>\n",
       "      <td>41</td>\n",
       "      <td>2</td>\n",
       "      <td>1</td>\n",
       "      <td>1</td>\n",
       "      <td>3</td>\n",
       "    </tr>\n",
       "    <tr>\n",
       "      <th>...</th>\n",
       "      <td>...</td>\n",
       "      <td>...</td>\n",
       "      <td>...</td>\n",
       "      <td>...</td>\n",
       "      <td>...</td>\n",
       "      <td>...</td>\n",
       "      <td>...</td>\n",
       "      <td>...</td>\n",
       "      <td>...</td>\n",
       "      <td>...</td>\n",
       "      <td>...</td>\n",
       "      <td>...</td>\n",
       "      <td>...</td>\n",
       "      <td>...</td>\n",
       "      <td>...</td>\n",
       "      <td>...</td>\n",
       "      <td>...</td>\n",
       "      <td>...</td>\n",
       "      <td>...</td>\n",
       "      <td>...</td>\n",
       "      <td>...</td>\n",
       "    </tr>\n",
       "    <tr>\n",
       "      <th>2234</th>\n",
       "      <td>Graduate</td>\n",
       "      <td>34421.0</td>\n",
       "      <td>1</td>\n",
       "      <td>0</td>\n",
       "      <td>81</td>\n",
       "      <td>3</td>\n",
       "      <td>3</td>\n",
       "      <td>7</td>\n",
       "      <td>6</td>\n",
       "      <td>2</td>\n",
       "      <td>...</td>\n",
       "      <td>0</td>\n",
       "      <td>0</td>\n",
       "      <td>0</td>\n",
       "      <td>0</td>\n",
       "      <td>698</td>\n",
       "      <td>48</td>\n",
       "      <td>2</td>\n",
       "      <td>1</td>\n",
       "      <td>1</td>\n",
       "      <td>3</td>\n",
       "    </tr>\n",
       "    <tr>\n",
       "      <th>2236</th>\n",
       "      <td>Postgraduate</td>\n",
       "      <td>64014.0</td>\n",
       "      <td>2</td>\n",
       "      <td>1</td>\n",
       "      <td>56</td>\n",
       "      <td>406</td>\n",
       "      <td>0</td>\n",
       "      <td>30</td>\n",
       "      <td>0</td>\n",
       "      <td>0</td>\n",
       "      <td>...</td>\n",
       "      <td>1</td>\n",
       "      <td>0</td>\n",
       "      <td>0</td>\n",
       "      <td>0</td>\n",
       "      <td>61</td>\n",
       "      <td>76</td>\n",
       "      <td>2</td>\n",
       "      <td>3</td>\n",
       "      <td>1</td>\n",
       "      <td>5</td>\n",
       "    </tr>\n",
       "    <tr>\n",
       "      <th>2237</th>\n",
       "      <td>Graduate</td>\n",
       "      <td>56981.0</td>\n",
       "      <td>0</td>\n",
       "      <td>0</td>\n",
       "      <td>91</td>\n",
       "      <td>908</td>\n",
       "      <td>48</td>\n",
       "      <td>217</td>\n",
       "      <td>32</td>\n",
       "      <td>12</td>\n",
       "      <td>...</td>\n",
       "      <td>0</td>\n",
       "      <td>0</td>\n",
       "      <td>0</td>\n",
       "      <td>0</td>\n",
       "      <td>315</td>\n",
       "      <td>41</td>\n",
       "      <td>1</td>\n",
       "      <td>0</td>\n",
       "      <td>0</td>\n",
       "      <td>1</td>\n",
       "    </tr>\n",
       "    <tr>\n",
       "      <th>2238</th>\n",
       "      <td>Postgraduate</td>\n",
       "      <td>69245.0</td>\n",
       "      <td>0</td>\n",
       "      <td>1</td>\n",
       "      <td>8</td>\n",
       "      <td>428</td>\n",
       "      <td>30</td>\n",
       "      <td>214</td>\n",
       "      <td>80</td>\n",
       "      <td>30</td>\n",
       "      <td>...</td>\n",
       "      <td>0</td>\n",
       "      <td>0</td>\n",
       "      <td>0</td>\n",
       "      <td>0</td>\n",
       "      <td>316</td>\n",
       "      <td>66</td>\n",
       "      <td>2</td>\n",
       "      <td>1</td>\n",
       "      <td>1</td>\n",
       "      <td>3</td>\n",
       "    </tr>\n",
       "    <tr>\n",
       "      <th>2239</th>\n",
       "      <td>Postgraduate</td>\n",
       "      <td>52869.0</td>\n",
       "      <td>1</td>\n",
       "      <td>1</td>\n",
       "      <td>40</td>\n",
       "      <td>84</td>\n",
       "      <td>3</td>\n",
       "      <td>61</td>\n",
       "      <td>2</td>\n",
       "      <td>1</td>\n",
       "      <td>...</td>\n",
       "      <td>0</td>\n",
       "      <td>0</td>\n",
       "      <td>0</td>\n",
       "      <td>1</td>\n",
       "      <td>782</td>\n",
       "      <td>68</td>\n",
       "      <td>2</td>\n",
       "      <td>2</td>\n",
       "      <td>1</td>\n",
       "      <td>4</td>\n",
       "    </tr>\n",
       "  </tbody>\n",
       "</table>\n",
       "<p>1978 rows × 29 columns</p>\n",
       "</div>"
      ],
      "text/plain": [
       "         Education   Income  Kidhome  Teenhome  Recency  Wines  Fruits  Meat  \\\n",
       "0         Graduate  58138.0        0         0       58    635      88   546   \n",
       "1         Graduate  46344.0        1         1       38     11       1     6   \n",
       "2         Graduate  71613.0        0         0       26    426      49   127   \n",
       "3         Graduate  26646.0        1         0       26     11       4    20   \n",
       "4     Postgraduate  58293.0        1         0       94    173      43   118   \n",
       "...            ...      ...      ...       ...      ...    ...     ...   ...   \n",
       "2234      Graduate  34421.0        1         0       81      3       3     7   \n",
       "2236  Postgraduate  64014.0        2         1       56    406       0    30   \n",
       "2237      Graduate  56981.0        0         0       91    908      48   217   \n",
       "2238  Postgraduate  69245.0        0         1        8    428      30   214   \n",
       "2239  Postgraduate  52869.0        1         1       40     84       3    61   \n",
       "\n",
       "      Fish  Sweets  ...  AcceptedCmp1  AcceptedCmp2  Complain  Response  \\\n",
       "0      172      88  ...             0             0         0         1   \n",
       "1        2       1  ...             0             0         0         0   \n",
       "2      111      21  ...             0             0         0         0   \n",
       "3       10       3  ...             0             0         0         0   \n",
       "4       46      27  ...             0             0         0         0   \n",
       "...    ...     ...  ...           ...           ...       ...       ...   \n",
       "2234     6       2  ...             0             0         0         0   \n",
       "2236     0       0  ...             1             0         0         0   \n",
       "2237    32      12  ...             0             0         0         0   \n",
       "2238    80      30  ...             0             0         0         0   \n",
       "2239     2       1  ...             0             0         0         1   \n",
       "\n",
       "      Days_enrolled  Age  Living_status  Children  Parent  Family_size  \n",
       "0               971   65              1         0       0            1  \n",
       "1               125   68              1         2       1            3  \n",
       "2               472   57              2         0       0            2  \n",
       "3                65   38              2         1       1            3  \n",
       "4               321   41              2         1       1            3  \n",
       "...             ...  ...            ...       ...     ...          ...  \n",
       "2234            698   48              2         1       1            3  \n",
       "2236             61   76              2         3       1            5  \n",
       "2237            315   41              1         0       0            1  \n",
       "2238            316   66              2         1       1            3  \n",
       "2239            782   68              2         2       1            4  \n",
       "\n",
       "[1978 rows x 29 columns]"
      ]
     },
     "execution_count": 125,
     "metadata": {},
     "output_type": "execute_result"
    }
   ],
   "source": [
    "df"
   ]
  },
  {
   "cell_type": "code",
   "execution_count": 115,
   "metadata": {},
   "outputs": [],
   "source": [
    "# rename the unclear title of some columns\n",
    "df=df.rename(columns={\"MntWines\": \"Wines\",\"MntFruits\":\"Fruits\",\"MntMeatProducts\":\"Meat\",\"MntFishProducts\":\"Fish\",\"MntSweetProducts\":\"Sweets\",\"MntGoldProds\":\"Gold\"})"
   ]
  },
  {
   "cell_type": "code",
   "execution_count": 117,
   "metadata": {},
   "outputs": [],
   "source": [
    "#Dropping some of the redundant features\n",
    "to_drop = [\"Marital_Status\", \"Dt_Customer\", \"Year_Birth\", \"ID\"]\n",
    "df = df.drop(to_drop, axis=1)"
   ]
  },
  {
   "cell_type": "code",
   "execution_count": 127,
   "metadata": {},
   "outputs": [],
   "source": [
    "#Total spendings on various items\n",
    "df[\"Spent\"] = df[\"Wines\"]+ df[\"Fruits\"]+ df[\"Meat\"]+ df[\"Fish\"]+df[\"Sweets\"]+ df[\"Gold\"]"
   ]
  },
  {
   "cell_type": "code",
   "execution_count": 128,
   "metadata": {},
   "outputs": [
    {
     "data": {
      "text/html": [
       "<div>\n",
       "<style scoped>\n",
       "    .dataframe tbody tr th:only-of-type {\n",
       "        vertical-align: middle;\n",
       "    }\n",
       "\n",
       "    .dataframe tbody tr th {\n",
       "        vertical-align: top;\n",
       "    }\n",
       "\n",
       "    .dataframe thead th {\n",
       "        text-align: right;\n",
       "    }\n",
       "</style>\n",
       "<table border=\"1\" class=\"dataframe\">\n",
       "  <thead>\n",
       "    <tr style=\"text-align: right;\">\n",
       "      <th></th>\n",
       "      <th>Income</th>\n",
       "      <th>Kidhome</th>\n",
       "      <th>Teenhome</th>\n",
       "      <th>Recency</th>\n",
       "      <th>Wines</th>\n",
       "      <th>Fruits</th>\n",
       "      <th>Meat</th>\n",
       "      <th>Fish</th>\n",
       "      <th>Sweets</th>\n",
       "      <th>Gold</th>\n",
       "      <th>...</th>\n",
       "      <th>AcceptedCmp2</th>\n",
       "      <th>Complain</th>\n",
       "      <th>Response</th>\n",
       "      <th>Days_enrolled</th>\n",
       "      <th>Age</th>\n",
       "      <th>Living_status</th>\n",
       "      <th>Children</th>\n",
       "      <th>Parent</th>\n",
       "      <th>Family_size</th>\n",
       "      <th>Spent</th>\n",
       "    </tr>\n",
       "  </thead>\n",
       "  <tbody>\n",
       "    <tr>\n",
       "      <th>count</th>\n",
       "      <td>1978.000000</td>\n",
       "      <td>1978.000000</td>\n",
       "      <td>1978.000000</td>\n",
       "      <td>1978.000000</td>\n",
       "      <td>1978.000000</td>\n",
       "      <td>1978.000000</td>\n",
       "      <td>1978.000000</td>\n",
       "      <td>1978.000000</td>\n",
       "      <td>1978.000000</td>\n",
       "      <td>1978.000000</td>\n",
       "      <td>...</td>\n",
       "      <td>1978.000000</td>\n",
       "      <td>1978.000000</td>\n",
       "      <td>1978.000000</td>\n",
       "      <td>1978.000000</td>\n",
       "      <td>1978.000000</td>\n",
       "      <td>1978.000000</td>\n",
       "      <td>1978.000000</td>\n",
       "      <td>1978.000000</td>\n",
       "      <td>1978.000000</td>\n",
       "      <td>1978.000000</td>\n",
       "    </tr>\n",
       "    <tr>\n",
       "      <th>mean</th>\n",
       "      <td>49263.832912</td>\n",
       "      <td>0.482305</td>\n",
       "      <td>0.528817</td>\n",
       "      <td>49.300303</td>\n",
       "      <td>272.295753</td>\n",
       "      <td>19.774014</td>\n",
       "      <td>132.138018</td>\n",
       "      <td>28.659252</td>\n",
       "      <td>20.414055</td>\n",
       "      <td>37.323054</td>\n",
       "      <td>...</td>\n",
       "      <td>0.011628</td>\n",
       "      <td>0.010111</td>\n",
       "      <td>0.132963</td>\n",
       "      <td>505.627907</td>\n",
       "      <td>53.044995</td>\n",
       "      <td>1.650152</td>\n",
       "      <td>1.011122</td>\n",
       "      <td>0.762386</td>\n",
       "      <td>2.661274</td>\n",
       "      <td>510.604146</td>\n",
       "    </tr>\n",
       "    <tr>\n",
       "      <th>std</th>\n",
       "      <td>19503.393831</td>\n",
       "      <td>0.545307</td>\n",
       "      <td>0.543903</td>\n",
       "      <td>28.988212</td>\n",
       "      <td>319.535688</td>\n",
       "      <td>29.661315</td>\n",
       "      <td>180.895109</td>\n",
       "      <td>41.978523</td>\n",
       "      <td>30.694490</td>\n",
       "      <td>43.178311</td>\n",
       "      <td>...</td>\n",
       "      <td>0.107231</td>\n",
       "      <td>0.100070</td>\n",
       "      <td>0.339620</td>\n",
       "      <td>230.636758</td>\n",
       "      <td>11.609281</td>\n",
       "      <td>0.477042</td>\n",
       "      <td>0.732149</td>\n",
       "      <td>0.425729</td>\n",
       "      <td>0.884033</td>\n",
       "      <td>539.466639</td>\n",
       "    </tr>\n",
       "    <tr>\n",
       "      <th>min</th>\n",
       "      <td>7500.000000</td>\n",
       "      <td>0.000000</td>\n",
       "      <td>0.000000</td>\n",
       "      <td>0.000000</td>\n",
       "      <td>0.000000</td>\n",
       "      <td>0.000000</td>\n",
       "      <td>0.000000</td>\n",
       "      <td>0.000000</td>\n",
       "      <td>0.000000</td>\n",
       "      <td>0.000000</td>\n",
       "      <td>...</td>\n",
       "      <td>0.000000</td>\n",
       "      <td>0.000000</td>\n",
       "      <td>0.000000</td>\n",
       "      <td>0.000000</td>\n",
       "      <td>26.000000</td>\n",
       "      <td>1.000000</td>\n",
       "      <td>0.000000</td>\n",
       "      <td>0.000000</td>\n",
       "      <td>1.000000</td>\n",
       "      <td>8.000000</td>\n",
       "    </tr>\n",
       "    <tr>\n",
       "      <th>25%</th>\n",
       "      <td>34125.750000</td>\n",
       "      <td>0.000000</td>\n",
       "      <td>0.000000</td>\n",
       "      <td>24.000000</td>\n",
       "      <td>20.000000</td>\n",
       "      <td>1.000000</td>\n",
       "      <td>14.000000</td>\n",
       "      <td>2.000000</td>\n",
       "      <td>1.000000</td>\n",
       "      <td>8.000000</td>\n",
       "      <td>...</td>\n",
       "      <td>0.000000</td>\n",
       "      <td>0.000000</td>\n",
       "      <td>0.000000</td>\n",
       "      <td>337.000000</td>\n",
       "      <td>45.000000</td>\n",
       "      <td>1.000000</td>\n",
       "      <td>1.000000</td>\n",
       "      <td>1.000000</td>\n",
       "      <td>2.000000</td>\n",
       "      <td>62.000000</td>\n",
       "    </tr>\n",
       "    <tr>\n",
       "      <th>50%</th>\n",
       "      <td>48606.000000</td>\n",
       "      <td>0.000000</td>\n",
       "      <td>1.000000</td>\n",
       "      <td>50.000000</td>\n",
       "      <td>135.000000</td>\n",
       "      <td>7.000000</td>\n",
       "      <td>51.000000</td>\n",
       "      <td>10.000000</td>\n",
       "      <td>7.000000</td>\n",
       "      <td>20.000000</td>\n",
       "      <td>...</td>\n",
       "      <td>0.000000</td>\n",
       "      <td>0.000000</td>\n",
       "      <td>0.000000</td>\n",
       "      <td>505.500000</td>\n",
       "      <td>52.000000</td>\n",
       "      <td>2.000000</td>\n",
       "      <td>1.000000</td>\n",
       "      <td>1.000000</td>\n",
       "      <td>3.000000</td>\n",
       "      <td>275.000000</td>\n",
       "    </tr>\n",
       "    <tr>\n",
       "      <th>75%</th>\n",
       "      <td>64719.750000</td>\n",
       "      <td>1.000000</td>\n",
       "      <td>1.000000</td>\n",
       "      <td>74.000000</td>\n",
       "      <td>445.000000</td>\n",
       "      <td>25.000000</td>\n",
       "      <td>169.000000</td>\n",
       "      <td>36.000000</td>\n",
       "      <td>26.000000</td>\n",
       "      <td>47.750000</td>\n",
       "      <td>...</td>\n",
       "      <td>0.000000</td>\n",
       "      <td>0.000000</td>\n",
       "      <td>0.000000</td>\n",
       "      <td>674.000000</td>\n",
       "      <td>62.000000</td>\n",
       "      <td>2.000000</td>\n",
       "      <td>1.000000</td>\n",
       "      <td>1.000000</td>\n",
       "      <td>3.000000</td>\n",
       "      <td>899.750000</td>\n",
       "    </tr>\n",
       "    <tr>\n",
       "      <th>max</th>\n",
       "      <td>101970.000000</td>\n",
       "      <td>2.000000</td>\n",
       "      <td>2.000000</td>\n",
       "      <td>99.000000</td>\n",
       "      <td>1311.000000</td>\n",
       "      <td>143.000000</td>\n",
       "      <td>843.000000</td>\n",
       "      <td>201.000000</td>\n",
       "      <td>150.000000</td>\n",
       "      <td>200.000000</td>\n",
       "      <td>...</td>\n",
       "      <td>1.000000</td>\n",
       "      <td>1.000000</td>\n",
       "      <td>1.000000</td>\n",
       "      <td>1063.000000</td>\n",
       "      <td>82.000000</td>\n",
       "      <td>2.000000</td>\n",
       "      <td>3.000000</td>\n",
       "      <td>1.000000</td>\n",
       "      <td>5.000000</td>\n",
       "      <td>2349.000000</td>\n",
       "    </tr>\n",
       "  </tbody>\n",
       "</table>\n",
       "<p>8 rows × 29 columns</p>\n",
       "</div>"
      ],
      "text/plain": [
       "              Income      Kidhome     Teenhome      Recency        Wines  \\\n",
       "count    1978.000000  1978.000000  1978.000000  1978.000000  1978.000000   \n",
       "mean    49263.832912     0.482305     0.528817    49.300303   272.295753   \n",
       "std     19503.393831     0.545307     0.543903    28.988212   319.535688   \n",
       "min      7500.000000     0.000000     0.000000     0.000000     0.000000   \n",
       "25%     34125.750000     0.000000     0.000000    24.000000    20.000000   \n",
       "50%     48606.000000     0.000000     1.000000    50.000000   135.000000   \n",
       "75%     64719.750000     1.000000     1.000000    74.000000   445.000000   \n",
       "max    101970.000000     2.000000     2.000000    99.000000  1311.000000   \n",
       "\n",
       "            Fruits         Meat         Fish       Sweets         Gold  ...  \\\n",
       "count  1978.000000  1978.000000  1978.000000  1978.000000  1978.000000  ...   \n",
       "mean     19.774014   132.138018    28.659252    20.414055    37.323054  ...   \n",
       "std      29.661315   180.895109    41.978523    30.694490    43.178311  ...   \n",
       "min       0.000000     0.000000     0.000000     0.000000     0.000000  ...   \n",
       "25%       1.000000    14.000000     2.000000     1.000000     8.000000  ...   \n",
       "50%       7.000000    51.000000    10.000000     7.000000    20.000000  ...   \n",
       "75%      25.000000   169.000000    36.000000    26.000000    47.750000  ...   \n",
       "max     143.000000   843.000000   201.000000   150.000000   200.000000  ...   \n",
       "\n",
       "       AcceptedCmp2     Complain     Response  Days_enrolled          Age  \\\n",
       "count   1978.000000  1978.000000  1978.000000    1978.000000  1978.000000   \n",
       "mean       0.011628     0.010111     0.132963     505.627907    53.044995   \n",
       "std        0.107231     0.100070     0.339620     230.636758    11.609281   \n",
       "min        0.000000     0.000000     0.000000       0.000000    26.000000   \n",
       "25%        0.000000     0.000000     0.000000     337.000000    45.000000   \n",
       "50%        0.000000     0.000000     0.000000     505.500000    52.000000   \n",
       "75%        0.000000     0.000000     0.000000     674.000000    62.000000   \n",
       "max        1.000000     1.000000     1.000000    1063.000000    82.000000   \n",
       "\n",
       "       Living_status     Children       Parent  Family_size        Spent  \n",
       "count    1978.000000  1978.000000  1978.000000  1978.000000  1978.000000  \n",
       "mean        1.650152     1.011122     0.762386     2.661274   510.604146  \n",
       "std         0.477042     0.732149     0.425729     0.884033   539.466639  \n",
       "min         1.000000     0.000000     0.000000     1.000000     8.000000  \n",
       "25%         1.000000     1.000000     1.000000     2.000000    62.000000  \n",
       "50%         2.000000     1.000000     1.000000     3.000000   275.000000  \n",
       "75%         2.000000     1.000000     1.000000     3.000000   899.750000  \n",
       "max         2.000000     3.000000     1.000000     5.000000  2349.000000  \n",
       "\n",
       "[8 rows x 29 columns]"
      ]
     },
     "execution_count": 128,
     "metadata": {},
     "output_type": "execute_result"
    }
   ],
   "source": [
    "df.describe()"
   ]
  },
  {
   "cell_type": "code",
   "execution_count": 129,
   "metadata": {},
   "outputs": [
    {
     "data": {
      "text/plain": [
       "['Education']"
      ]
     },
     "execution_count": 129,
     "metadata": {},
     "output_type": "execute_result"
    }
   ],
   "source": [
    "df.select_dtypes(include=['object']).columns.tolist()"
   ]
  },
  {
   "cell_type": "code",
   "execution_count": 132,
   "metadata": {},
   "outputs": [],
   "source": [
    "LE=LabelEncoder()\n",
    "df['Education']=LE.fit_transform(df['Education'])"
   ]
  },
  {
   "cell_type": "markdown",
   "metadata": {},
   "source": [
    "## Dememtionalilty Reduction"
   ]
  },
  {
   "cell_type": "code",
   "execution_count": 171,
   "metadata": {},
   "outputs": [],
   "source": [
    "#drop column with boolean value and then conduct dementinality reduction \n",
    "\n",
    "df1=df.copy()\n",
    "col=['AcceptedCmp3', 'AcceptedCmp4', 'AcceptedCmp5', \n",
    "     'AcceptedCmp1','AcceptedCmp2', 'Complain', 'Response']\n",
    "df1=df1.drop(col,axis=1)"
   ]
  },
  {
   "cell_type": "code",
   "execution_count": 172,
   "metadata": {},
   "outputs": [],
   "source": [
    "#Scalling the data\n",
    "scaler=StandardScaler()\n",
    "scaler.fit(df1)\n",
    "scaled_df=pd.DataFrame(scaler.fit_transform(df1),columns=df1.columns)"
   ]
  },
  {
   "cell_type": "code",
   "execution_count": 173,
   "metadata": {},
   "outputs": [
    {
     "data": {
      "text/html": [
       "<div>\n",
       "<style scoped>\n",
       "    .dataframe tbody tr th:only-of-type {\n",
       "        vertical-align: middle;\n",
       "    }\n",
       "\n",
       "    .dataframe tbody tr th {\n",
       "        vertical-align: top;\n",
       "    }\n",
       "\n",
       "    .dataframe thead th {\n",
       "        text-align: right;\n",
       "    }\n",
       "</style>\n",
       "<table border=\"1\" class=\"dataframe\">\n",
       "  <thead>\n",
       "    <tr style=\"text-align: right;\">\n",
       "      <th></th>\n",
       "      <th>Education</th>\n",
       "      <th>Income</th>\n",
       "      <th>Kidhome</th>\n",
       "      <th>Teenhome</th>\n",
       "      <th>Recency</th>\n",
       "      <th>Wines</th>\n",
       "      <th>Fruits</th>\n",
       "      <th>Meat</th>\n",
       "      <th>Fish</th>\n",
       "      <th>Sweets</th>\n",
       "      <th>...</th>\n",
       "      <th>NumCatalogPurchases</th>\n",
       "      <th>NumStorePurchases</th>\n",
       "      <th>NumWebVisitsMonth</th>\n",
       "      <th>Days_enrolled</th>\n",
       "      <th>Age</th>\n",
       "      <th>Living_status</th>\n",
       "      <th>Children</th>\n",
       "      <th>Parent</th>\n",
       "      <th>Family_size</th>\n",
       "      <th>Spent</th>\n",
       "    </tr>\n",
       "  </thead>\n",
       "  <tbody>\n",
       "    <tr>\n",
       "      <th>0</th>\n",
       "      <td>-0.915814</td>\n",
       "      <td>0.455121</td>\n",
       "      <td>-0.884689</td>\n",
       "      <td>-0.972509</td>\n",
       "      <td>0.300187</td>\n",
       "      <td>1.135385</td>\n",
       "      <td>2.300749</td>\n",
       "      <td>2.288435</td>\n",
       "      <td>3.415484</td>\n",
       "      <td>2.202449</td>\n",
       "      <td>...</td>\n",
       "      <td>2.986959</td>\n",
       "      <td>-0.497731</td>\n",
       "      <td>0.684927</td>\n",
       "      <td>2.018281</td>\n",
       "      <td>1.030040</td>\n",
       "      <td>-1.363225</td>\n",
       "      <td>-1.381383</td>\n",
       "      <td>-1.791232</td>\n",
       "      <td>-1.879674</td>\n",
       "      <td>2.051426</td>\n",
       "    </tr>\n",
       "    <tr>\n",
       "      <th>1</th>\n",
       "      <td>-0.915814</td>\n",
       "      <td>-0.149747</td>\n",
       "      <td>0.949603</td>\n",
       "      <td>0.866518</td>\n",
       "      <td>-0.389923</td>\n",
       "      <td>-0.817943</td>\n",
       "      <td>-0.633106</td>\n",
       "      <td>-0.697476</td>\n",
       "      <td>-0.635229</td>\n",
       "      <td>-0.632653</td>\n",
       "      <td>...</td>\n",
       "      <td>-0.504429</td>\n",
       "      <td>-1.127617</td>\n",
       "      <td>-0.225547</td>\n",
       "      <td>-1.650752</td>\n",
       "      <td>1.288520</td>\n",
       "      <td>-1.363225</td>\n",
       "      <td>1.350992</td>\n",
       "      <td>0.558275</td>\n",
       "      <td>0.383257</td>\n",
       "      <td>-0.896675</td>\n",
       "    </tr>\n",
       "    <tr>\n",
       "      <th>2</th>\n",
       "      <td>-0.915814</td>\n",
       "      <td>1.146201</td>\n",
       "      <td>-0.884689</td>\n",
       "      <td>-0.972509</td>\n",
       "      <td>-0.803989</td>\n",
       "      <td>0.481145</td>\n",
       "      <td>0.985572</td>\n",
       "      <td>-0.028410</td>\n",
       "      <td>1.961993</td>\n",
       "      <td>0.019094</td>\n",
       "      <td>...</td>\n",
       "      <td>-0.116497</td>\n",
       "      <td>1.391927</td>\n",
       "      <td>-0.680784</td>\n",
       "      <td>-0.145841</td>\n",
       "      <td>0.340762</td>\n",
       "      <td>0.733555</td>\n",
       "      <td>-1.381383</td>\n",
       "      <td>-1.791232</td>\n",
       "      <td>-0.748209</td>\n",
       "      <td>0.492084</td>\n",
       "    </tr>\n",
       "    <tr>\n",
       "      <th>3</th>\n",
       "      <td>-0.915814</td>\n",
       "      <td>-1.159980</td>\n",
       "      <td>0.949603</td>\n",
       "      <td>-0.972509</td>\n",
       "      <td>-0.803989</td>\n",
       "      <td>-0.817943</td>\n",
       "      <td>-0.531939</td>\n",
       "      <td>-0.620063</td>\n",
       "      <td>-0.444608</td>\n",
       "      <td>-0.567478</td>\n",
       "      <td>...</td>\n",
       "      <td>-0.892361</td>\n",
       "      <td>-0.497731</td>\n",
       "      <td>0.229690</td>\n",
       "      <td>-1.910967</td>\n",
       "      <td>-1.296273</td>\n",
       "      <td>0.733555</td>\n",
       "      <td>-0.015195</td>\n",
       "      <td>0.558275</td>\n",
       "      <td>0.383257</td>\n",
       "      <td>-0.848467</td>\n",
       "    </tr>\n",
       "    <tr>\n",
       "      <th>4</th>\n",
       "      <td>0.553351</td>\n",
       "      <td>0.463071</td>\n",
       "      <td>0.949603</td>\n",
       "      <td>-0.972509</td>\n",
       "      <td>1.542386</td>\n",
       "      <td>-0.310829</td>\n",
       "      <td>0.783238</td>\n",
       "      <td>-0.078176</td>\n",
       "      <td>0.413191</td>\n",
       "      <td>0.214619</td>\n",
       "      <td>...</td>\n",
       "      <td>0.271435</td>\n",
       "      <td>0.132155</td>\n",
       "      <td>-0.225547</td>\n",
       "      <td>-0.800716</td>\n",
       "      <td>-1.037794</td>\n",
       "      <td>0.733555</td>\n",
       "      <td>-0.015195</td>\n",
       "      <td>0.558275</td>\n",
       "      <td>0.383257</td>\n",
       "      <td>-0.164286</td>\n",
       "    </tr>\n",
       "  </tbody>\n",
       "</table>\n",
       "<p>5 rows × 23 columns</p>\n",
       "</div>"
      ],
      "text/plain": [
       "   Education    Income   Kidhome  Teenhome   Recency     Wines    Fruits  \\\n",
       "0  -0.915814  0.455121 -0.884689 -0.972509  0.300187  1.135385  2.300749   \n",
       "1  -0.915814 -0.149747  0.949603  0.866518 -0.389923 -0.817943 -0.633106   \n",
       "2  -0.915814  1.146201 -0.884689 -0.972509 -0.803989  0.481145  0.985572   \n",
       "3  -0.915814 -1.159980  0.949603 -0.972509 -0.803989 -0.817943 -0.531939   \n",
       "4   0.553351  0.463071  0.949603 -0.972509  1.542386 -0.310829  0.783238   \n",
       "\n",
       "       Meat      Fish    Sweets  ...  NumCatalogPurchases  NumStorePurchases  \\\n",
       "0  2.288435  3.415484  2.202449  ...             2.986959          -0.497731   \n",
       "1 -0.697476 -0.635229 -0.632653  ...            -0.504429          -1.127617   \n",
       "2 -0.028410  1.961993  0.019094  ...            -0.116497           1.391927   \n",
       "3 -0.620063 -0.444608 -0.567478  ...            -0.892361          -0.497731   \n",
       "4 -0.078176  0.413191  0.214619  ...             0.271435           0.132155   \n",
       "\n",
       "   NumWebVisitsMonth  Days_enrolled       Age  Living_status  Children  \\\n",
       "0           0.684927       2.018281  1.030040      -1.363225 -1.381383   \n",
       "1          -0.225547      -1.650752  1.288520      -1.363225  1.350992   \n",
       "2          -0.680784      -0.145841  0.340762       0.733555 -1.381383   \n",
       "3           0.229690      -1.910967 -1.296273       0.733555 -0.015195   \n",
       "4          -0.225547      -0.800716 -1.037794       0.733555 -0.015195   \n",
       "\n",
       "     Parent  Family_size     Spent  \n",
       "0 -1.791232    -1.879674  2.051426  \n",
       "1  0.558275     0.383257 -0.896675  \n",
       "2 -1.791232    -0.748209  0.492084  \n",
       "3  0.558275     0.383257 -0.848467  \n",
       "4  0.558275     0.383257 -0.164286  \n",
       "\n",
       "[5 rows x 23 columns]"
      ]
     },
     "execution_count": 173,
     "metadata": {},
     "output_type": "execute_result"
    }
   ],
   "source": [
    "scaled_df.head()"
   ]
  },
  {
   "cell_type": "code",
   "execution_count": 174,
   "metadata": {},
   "outputs": [
    {
     "data": {
      "text/plain": [
       "RangeIndex(start=0, stop=1978, step=1)"
      ]
     },
     "execution_count": 174,
     "metadata": {},
     "output_type": "execute_result"
    }
   ],
   "source": [
    "scaled_df.index"
   ]
  },
  {
   "cell_type": "code",
   "execution_count": 139,
   "metadata": {
    "scrolled": true
   },
   "outputs": [
    {
     "data": {
      "text/html": [
       "<div>\n",
       "<style scoped>\n",
       "    .dataframe tbody tr th:only-of-type {\n",
       "        vertical-align: middle;\n",
       "    }\n",
       "\n",
       "    .dataframe tbody tr th {\n",
       "        vertical-align: top;\n",
       "    }\n",
       "\n",
       "    .dataframe thead th {\n",
       "        text-align: right;\n",
       "    }\n",
       "</style>\n",
       "<table border=\"1\" class=\"dataframe\">\n",
       "  <thead>\n",
       "    <tr style=\"text-align: right;\">\n",
       "      <th></th>\n",
       "      <th>PC1</th>\n",
       "      <th>PC2</th>\n",
       "      <th>PC3</th>\n",
       "      <th>PC4</th>\n",
       "      <th>PC5</th>\n",
       "      <th>PC6</th>\n",
       "      <th>PC7</th>\n",
       "      <th>PC8</th>\n",
       "      <th>PC9</th>\n",
       "      <th>PC10</th>\n",
       "      <th>...</th>\n",
       "      <th>PC14</th>\n",
       "      <th>PC15</th>\n",
       "      <th>PC16</th>\n",
       "      <th>PC17</th>\n",
       "      <th>PC18</th>\n",
       "      <th>PC19</th>\n",
       "      <th>PC20</th>\n",
       "      <th>PC21</th>\n",
       "      <th>PC22</th>\n",
       "      <th>PC23</th>\n",
       "    </tr>\n",
       "  </thead>\n",
       "  <tbody>\n",
       "    <tr>\n",
       "      <th>Standard deviation</th>\n",
       "      <td>2.9069</td>\n",
       "      <td>1.7581</td>\n",
       "      <td>1.2612</td>\n",
       "      <td>1.1612</td>\n",
       "      <td>1.0499</td>\n",
       "      <td>1.0080</td>\n",
       "      <td>0.9800</td>\n",
       "      <td>0.9115</td>\n",
       "      <td>0.8343</td>\n",
       "      <td>0.7907</td>\n",
       "      <td>...</td>\n",
       "      <td>0.6055</td>\n",
       "      <td>0.5905</td>\n",
       "      <td>0.5269</td>\n",
       "      <td>0.5183</td>\n",
       "      <td>0.4607</td>\n",
       "      <td>0.4504</td>\n",
       "      <td>0.3609</td>\n",
       "      <td>0.0</td>\n",
       "      <td>0.0</td>\n",
       "      <td>0.0</td>\n",
       "    </tr>\n",
       "    <tr>\n",
       "      <th>Proportion of variance</th>\n",
       "      <td>0.3672</td>\n",
       "      <td>0.1343</td>\n",
       "      <td>0.0691</td>\n",
       "      <td>0.0586</td>\n",
       "      <td>0.0479</td>\n",
       "      <td>0.0442</td>\n",
       "      <td>0.0417</td>\n",
       "      <td>0.0361</td>\n",
       "      <td>0.0302</td>\n",
       "      <td>0.0272</td>\n",
       "      <td>...</td>\n",
       "      <td>0.0159</td>\n",
       "      <td>0.0152</td>\n",
       "      <td>0.0121</td>\n",
       "      <td>0.0117</td>\n",
       "      <td>0.0092</td>\n",
       "      <td>0.0088</td>\n",
       "      <td>0.0057</td>\n",
       "      <td>0.0</td>\n",
       "      <td>0.0</td>\n",
       "      <td>0.0</td>\n",
       "    </tr>\n",
       "    <tr>\n",
       "      <th>Cumulative proportion</th>\n",
       "      <td>0.3672</td>\n",
       "      <td>0.5015</td>\n",
       "      <td>0.5707</td>\n",
       "      <td>0.6293</td>\n",
       "      <td>0.6772</td>\n",
       "      <td>0.7213</td>\n",
       "      <td>0.7630</td>\n",
       "      <td>0.7992</td>\n",
       "      <td>0.8294</td>\n",
       "      <td>0.8566</td>\n",
       "      <td>...</td>\n",
       "      <td>0.9374</td>\n",
       "      <td>0.9526</td>\n",
       "      <td>0.9646</td>\n",
       "      <td>0.9763</td>\n",
       "      <td>0.9855</td>\n",
       "      <td>0.9943</td>\n",
       "      <td>1.0000</td>\n",
       "      <td>1.0</td>\n",
       "      <td>1.0</td>\n",
       "      <td>1.0</td>\n",
       "    </tr>\n",
       "  </tbody>\n",
       "</table>\n",
       "<p>3 rows × 23 columns</p>\n",
       "</div>"
      ],
      "text/plain": [
       "                           PC1     PC2     PC3     PC4     PC5     PC6  \\\n",
       "Standard deviation      2.9069  1.7581  1.2612  1.1612  1.0499  1.0080   \n",
       "Proportion of variance  0.3672  0.1343  0.0691  0.0586  0.0479  0.0442   \n",
       "Cumulative proportion   0.3672  0.5015  0.5707  0.6293  0.6772  0.7213   \n",
       "\n",
       "                           PC7     PC8     PC9    PC10  ...    PC14    PC15  \\\n",
       "Standard deviation      0.9800  0.9115  0.8343  0.7907  ...  0.6055  0.5905   \n",
       "Proportion of variance  0.0417  0.0361  0.0302  0.0272  ...  0.0159  0.0152   \n",
       "Cumulative proportion   0.7630  0.7992  0.8294  0.8566  ...  0.9374  0.9526   \n",
       "\n",
       "                          PC16    PC17    PC18    PC19    PC20  PC21  PC22  \\\n",
       "Standard deviation      0.5269  0.5183  0.4607  0.4504  0.3609   0.0   0.0   \n",
       "Proportion of variance  0.0121  0.0117  0.0092  0.0088  0.0057   0.0   0.0   \n",
       "Cumulative proportion   0.9646  0.9763  0.9855  0.9943  1.0000   1.0   1.0   \n",
       "\n",
       "                        PC23  \n",
       "Standard deviation       0.0  \n",
       "Proportion of variance   0.0  \n",
       "Cumulative proportion    1.0  \n",
       "\n",
       "[3 rows x 23 columns]"
      ]
     },
     "execution_count": 139,
     "metadata": {},
     "output_type": "execute_result"
    }
   ],
   "source": [
    "pcs = PCA()\n",
    "pcs.fit(scaled_df)\n",
    "pcsSummary_df = pd.DataFrame({'Standard deviation': np.sqrt(pcs.explained_variance_),\n",
    "                              'Proportion of variance': pcs.explained_variance_ratio_,\n",
    "                              'Cumulative proportion': np.cumsum(pcs.explained_variance_ratio_)})\n",
    "pcsSummary_df = pcsSummary_df.transpose()\n",
    "pcsSummary_df.columns = ['PC{}'.format(i) for i in range(1, len(pcsSummary_df.columns) + 1)]\n",
    "pcsSummary_df.round(4)"
   ]
  },
  {
   "cell_type": "markdown",
   "metadata": {},
   "source": [
    "From the table above, we can see that we need at least 9 principle components to retian 82.94% of the variance."
   ]
  },
  {
   "cell_type": "code",
   "execution_count": 152,
   "metadata": {},
   "outputs": [
    {
     "data": {
      "text/html": [
       "<div>\n",
       "<style scoped>\n",
       "    .dataframe tbody tr th:only-of-type {\n",
       "        vertical-align: middle;\n",
       "    }\n",
       "\n",
       "    .dataframe tbody tr th {\n",
       "        vertical-align: top;\n",
       "    }\n",
       "\n",
       "    .dataframe thead th {\n",
       "        text-align: right;\n",
       "    }\n",
       "</style>\n",
       "<table border=\"1\" class=\"dataframe\">\n",
       "  <thead>\n",
       "    <tr style=\"text-align: right;\">\n",
       "      <th></th>\n",
       "      <th>count</th>\n",
       "      <th>mean</th>\n",
       "      <th>std</th>\n",
       "      <th>min</th>\n",
       "      <th>25%</th>\n",
       "      <th>50%</th>\n",
       "      <th>75%</th>\n",
       "      <th>max</th>\n",
       "    </tr>\n",
       "  </thead>\n",
       "  <tbody>\n",
       "    <tr>\n",
       "      <th>col1</th>\n",
       "      <td>1978.0</td>\n",
       "      <td>-3.233005e-17</td>\n",
       "      <td>2.906940</td>\n",
       "      <td>-4.467634</td>\n",
       "      <td>-2.476890</td>\n",
       "      <td>-0.870395</td>\n",
       "      <td>2.173599</td>\n",
       "      <td>8.731111</td>\n",
       "    </tr>\n",
       "    <tr>\n",
       "      <th>col2</th>\n",
       "      <td>1978.0</td>\n",
       "      <td>-6.836459e-17</td>\n",
       "      <td>1.758093</td>\n",
       "      <td>-4.498551</td>\n",
       "      <td>-1.387413</td>\n",
       "      <td>-0.139354</td>\n",
       "      <td>1.314739</td>\n",
       "      <td>6.593525</td>\n",
       "    </tr>\n",
       "    <tr>\n",
       "      <th>col3</th>\n",
       "      <td>1978.0</td>\n",
       "      <td>1.762437e-17</td>\n",
       "      <td>1.261216</td>\n",
       "      <td>-3.548848</td>\n",
       "      <td>-0.862259</td>\n",
       "      <td>-0.026085</td>\n",
       "      <td>0.861443</td>\n",
       "      <td>3.929655</td>\n",
       "    </tr>\n",
       "    <tr>\n",
       "      <th>col4</th>\n",
       "      <td>1978.0</td>\n",
       "      <td>-1.729461e-17</td>\n",
       "      <td>1.161223</td>\n",
       "      <td>-3.177987</td>\n",
       "      <td>-0.740935</td>\n",
       "      <td>-0.000320</td>\n",
       "      <td>0.900834</td>\n",
       "      <td>3.575519</td>\n",
       "    </tr>\n",
       "    <tr>\n",
       "      <th>col5</th>\n",
       "      <td>1978.0</td>\n",
       "      <td>3.513648e-17</td>\n",
       "      <td>1.049903</td>\n",
       "      <td>-2.954964</td>\n",
       "      <td>-0.751801</td>\n",
       "      <td>-0.001258</td>\n",
       "      <td>0.691351</td>\n",
       "      <td>3.156661</td>\n",
       "    </tr>\n",
       "    <tr>\n",
       "      <th>col6</th>\n",
       "      <td>1978.0</td>\n",
       "      <td>4.354875e-17</td>\n",
       "      <td>1.007952</td>\n",
       "      <td>-2.517285</td>\n",
       "      <td>-0.792078</td>\n",
       "      <td>-0.014530</td>\n",
       "      <td>0.778503</td>\n",
       "      <td>2.838295</td>\n",
       "    </tr>\n",
       "    <tr>\n",
       "      <th>col7</th>\n",
       "      <td>1978.0</td>\n",
       "      <td>-5.802290e-18</td>\n",
       "      <td>0.979997</td>\n",
       "      <td>-2.834494</td>\n",
       "      <td>-0.652556</td>\n",
       "      <td>0.063418</td>\n",
       "      <td>0.703833</td>\n",
       "      <td>2.918989</td>\n",
       "    </tr>\n",
       "    <tr>\n",
       "      <th>col8</th>\n",
       "      <td>1978.0</td>\n",
       "      <td>6.825234e-17</td>\n",
       "      <td>0.911502</td>\n",
       "      <td>-3.262633</td>\n",
       "      <td>-0.597290</td>\n",
       "      <td>0.006413</td>\n",
       "      <td>0.634310</td>\n",
       "      <td>3.735206</td>\n",
       "    </tr>\n",
       "    <tr>\n",
       "      <th>col9</th>\n",
       "      <td>1978.0</td>\n",
       "      <td>-3.850420e-17</td>\n",
       "      <td>0.834290</td>\n",
       "      <td>-3.042965</td>\n",
       "      <td>-0.532622</td>\n",
       "      <td>-0.010268</td>\n",
       "      <td>0.522707</td>\n",
       "      <td>3.159278</td>\n",
       "    </tr>\n",
       "  </tbody>\n",
       "</table>\n",
       "</div>"
      ],
      "text/plain": [
       "       count          mean       std       min       25%       50%       75%  \\\n",
       "col1  1978.0 -3.233005e-17  2.906940 -4.467634 -2.476890 -0.870395  2.173599   \n",
       "col2  1978.0 -6.836459e-17  1.758093 -4.498551 -1.387413 -0.139354  1.314739   \n",
       "col3  1978.0  1.762437e-17  1.261216 -3.548848 -0.862259 -0.026085  0.861443   \n",
       "col4  1978.0 -1.729461e-17  1.161223 -3.177987 -0.740935 -0.000320  0.900834   \n",
       "col5  1978.0  3.513648e-17  1.049903 -2.954964 -0.751801 -0.001258  0.691351   \n",
       "col6  1978.0  4.354875e-17  1.007952 -2.517285 -0.792078 -0.014530  0.778503   \n",
       "col7  1978.0 -5.802290e-18  0.979997 -2.834494 -0.652556  0.063418  0.703833   \n",
       "col8  1978.0  6.825234e-17  0.911502 -3.262633 -0.597290  0.006413  0.634310   \n",
       "col9  1978.0 -3.850420e-17  0.834290 -3.042965 -0.532622 -0.010268  0.522707   \n",
       "\n",
       "           max  \n",
       "col1  8.731111  \n",
       "col2  6.593525  \n",
       "col3  3.929655  \n",
       "col4  3.575519  \n",
       "col5  3.156661  \n",
       "col6  2.838295  \n",
       "col7  2.918989  \n",
       "col8  3.735206  \n",
       "col9  3.159278  "
      ]
     },
     "execution_count": 152,
     "metadata": {},
     "output_type": "execute_result"
    }
   ],
   "source": [
    "#Initiating PCA to reduce dimentions aka features to 9\n",
    "pca = PCA(n_components=9)\n",
    "pca.fit(scaled_df)\n",
    "PCA_ds = pd.DataFrame(pca.transform(scaled_df), columns=([\"col1\",\"col2\", \"col3\",\n",
    "                                                          \"col4\",\"col5\", \"col6\",\n",
    "                                                         \"col7\",\"col8\", \"col9\"]))\n",
    "PCA_ds.describe().T"
   ]
  },
  {
   "cell_type": "markdown",
   "metadata": {},
   "source": [
    "## Comparision of Diffrent Cluster Models"
   ]
  },
  {
   "cell_type": "markdown",
   "metadata": {},
   "source": [
    "## 1. Decide the number of clusters"
   ]
  },
  {
   "cell_type": "code",
   "execution_count": 155,
   "metadata": {
    "scrolled": true
   },
   "outputs": [
    {
     "name": "stdout",
     "output_type": "stream",
     "text": [
      "Collecting yellowbrick\n",
      "  Downloading yellowbrick-1.4-py3-none-any.whl (274 kB)\n",
      "Requirement already satisfied: scikit-learn>=1.0.0 in c:\\users\\li lin\\anaconda3\\lib\\site-packages (from yellowbrick) (1.0.1)\n",
      "Requirement already satisfied: scipy>=1.0.0 in c:\\users\\li lin\\anaconda3\\lib\\site-packages (from yellowbrick) (1.7.1)\n",
      "Requirement already satisfied: numpy>=1.16.0 in c:\\users\\li lin\\appdata\\roaming\\python\\python38\\site-packages (from yellowbrick) (1.22.3)\n",
      "Requirement already satisfied: matplotlib!=3.0.0,>=2.0.2 in c:\\users\\li lin\\anaconda3\\lib\\site-packages (from yellowbrick) (3.4.3)\n",
      "Requirement already satisfied: cycler>=0.10.0 in c:\\users\\li lin\\anaconda3\\lib\\site-packages (from yellowbrick) (0.10.0)\n",
      "Requirement already satisfied: six in c:\\users\\li lin\\anaconda3\\lib\\site-packages (from cycler>=0.10.0->yellowbrick) (1.16.0)\n",
      "Requirement already satisfied: python-dateutil>=2.7 in c:\\users\\li lin\\anaconda3\\lib\\site-packages (from matplotlib!=3.0.0,>=2.0.2->yellowbrick) (2.8.2)\n",
      "Requirement already satisfied: pyparsing>=2.2.1 in c:\\users\\li lin\\anaconda3\\lib\\site-packages (from matplotlib!=3.0.0,>=2.0.2->yellowbrick) (3.0.4)\n",
      "Requirement already satisfied: pillow>=6.2.0 in c:\\users\\li lin\\anaconda3\\lib\\site-packages (from matplotlib!=3.0.0,>=2.0.2->yellowbrick) (8.4.0)\n",
      "Requirement already satisfied: kiwisolver>=1.0.1 in c:\\users\\li lin\\anaconda3\\lib\\site-packages (from matplotlib!=3.0.0,>=2.0.2->yellowbrick) (1.3.1)\n",
      "Requirement already satisfied: threadpoolctl>=2.0.0 in c:\\users\\li lin\\anaconda3\\lib\\site-packages (from scikit-learn>=1.0.0->yellowbrick) (2.2.0)\n",
      "Requirement already satisfied: joblib>=0.11 in c:\\users\\li lin\\anaconda3\\lib\\site-packages (from scikit-learn>=1.0.0->yellowbrick) (1.1.0)\n",
      "Installing collected packages: yellowbrick\n",
      "Successfully installed yellowbrick-1.4\n"
     ]
    },
    {
     "data": {
      "image/png": "[encoded data removed]",
      "text/plain": [
       "<Figure size 576x396 with 2 Axes>"
      ]
     },
     "metadata": {},
     "output_type": "display_data"
    },
    {
     "data": {
      "text/plain": [
       "<AxesSubplot:title={'center':'Distortion Score Elbow for KMeans Clustering'}, xlabel='k', ylabel='distortion score'>"
      ]
     },
     "execution_count": 155,
     "metadata": {},
     "output_type": "execute_result"
    }
   ],
   "source": [
    "#Elbow Method to determine the number of clusters to be formed\n",
    "!pip install yellowbrick\n",
    "from yellowbrick.cluster import KElbowVisualizer\n",
    "Elbow_M = KElbowVisualizer(KMeans(), k=10)\n",
    "Elbow_M.fit(PCA_ds)\n",
    "Elbow_M.show()"
   ]
  },
  {
   "cell_type": "markdown",
   "metadata": {},
   "source": [
    "## 2.1 K Mean Clustering"
   ]
  },
  {
   "cell_type": "code",
   "execution_count": 160,
   "metadata": {},
   "outputs": [],
   "source": [
    "def clusterSizes(kmeans):\n",
    "    return pd.Series(kmeans.labels_).value_counts().sort_index()\n"
   ]
  },
  {
   "cell_type": "code",
   "execution_count": 162,
   "metadata": {
    "scrolled": true
   },
   "outputs": [
    {
     "name": "stdout",
     "output_type": "stream",
     "text": [
      "0    519\n",
      "1    590\n",
      "2    361\n",
      "3    508\n",
      "dtype: int64\n"
     ]
    }
   ],
   "source": [
    "clusters = KMeans(n_clusters=4, random_state=1).fit(PCA_ds)\n",
    "print(clusterSizes(clusters))\n"
   ]
  },
  {
   "cell_type": "code",
   "execution_count": 180,
   "metadata": {},
   "outputs": [],
   "source": [
    "yhat_K = clusters.fit_predict(PCA_ds)\n",
    "PCA_ds[\"Clusters_K\"] = yhat_K\n",
    "#Adding the Clusters feature to the orignal dataframe.\n",
    "df[\"Clusters_K\"]= yhat_K"
   ]
  },
  {
   "cell_type": "code",
   "execution_count": 181,
   "metadata": {},
   "outputs": [
    {
     "data": {
      "image/png": "[encoded data removed]",
      "text/plain": [
       "<Figure size 576x396 with 1 Axes>"
      ]
     },
     "metadata": {},
     "output_type": "display_data"
    }
   ],
   "source": [
    "pl = sns.countplot(x=df[\"Clusters_K\"])\n",
    "pl.set_title(\"Distribution Of The K-Means Clusters\")\n",
    "plt.show()"
   ]
  },
  {
   "cell_type": "markdown",
   "metadata": {},
   "source": [
    "With K-mean model, most of the customers are categorized to cluster 3.\n",
    "\n"
   ]
  },
  {
   "cell_type": "markdown",
   "metadata": {},
   "source": [
    "## 2.2 Hierarchical Clustering"
   ]
  },
  {
   "cell_type": "code",
   "execution_count": 163,
   "metadata": {},
   "outputs": [],
   "source": [
    "from sklearn import preprocessing\n",
    "from sklearn.metrics import pairwise\n",
    "from scipy.cluster.hierarchy import dendrogram, linkage, fcluster"
   ]
  },
  {
   "cell_type": "code",
   "execution_count": 175,
   "metadata": {
    "scrolled": true
   },
   "outputs": [
    {
     "data": {
      "image/png": "[encoded data removed]",
      "text/plain": [
       "<Figure size 720x432 with 1 Axes>"
      ]
     },
     "metadata": {},
     "output_type": "display_data"
    }
   ],
   "source": [
    "Z = linkage(PCA_ds, method='single')\n",
    "\n",
    "fig = plt.figure(figsize=(10, 6))\n",
    "fig.subplots_adjust(bottom=0.23)\n",
    "plt.title('Hierarchical Clustering Dendrogram (Single linkage)')\n",
    "plt.xlabel('PCA')\n",
    "dendrogram(Z, labels=PCA_ds.index, color_threshold=2.75)\n",
    "plt.axhline(y=2.75, color='black', linewidth=0.5, linestyle='dashed')\n",
    "plt.show()"
   ]
  },
  {
   "cell_type": "markdown",
   "metadata": {},
   "source": [
    "Hierarchical clustering can't handle big data well but K Means clustering can. \n",
    "\n"
   ]
  },
  {
   "cell_type": "markdown",
   "metadata": {},
   "source": [
    "## 2.3 Agglomerative Clustering"
   ]
  },
  {
   "cell_type": "code",
   "execution_count": 177,
   "metadata": {},
   "outputs": [],
   "source": [
    "#Initiating the Agglomerative Clustering model \n",
    "AC = AgglomerativeClustering(n_clusters=4)\n",
    "# fit model and predict clusters\n",
    "yhat_AC = AC.fit_predict(PCA_ds)\n",
    "PCA_ds[\"Clusters\"] = yhat_AC\n",
    "#Adding the Clusters feature to the orignal dataframe.\n",
    "df[\"Clusters\"]= yhat_AC"
   ]
  },
  {
   "cell_type": "code",
   "execution_count": 182,
   "metadata": {},
   "outputs": [
    {
     "data": {
      "image/png": "[encoded data removed]",
      "text/plain": [
       "<Figure size 576x396 with 1 Axes>"
      ]
     },
     "metadata": {},
     "output_type": "display_data"
    }
   ],
   "source": [
    "pl = sns.countplot(x=df[\"Clusters\"])\n",
    "pl.set_title(\"Distribution Of The AC Clusters\")\n",
    "plt.show()"
   ]
  },
  {
   "cell_type": "code",
   "execution_count": 195,
   "metadata": {},
   "outputs": [],
   "source": [
    "X=PCA_ds.iloc[:,0:9].copy()"
   ]
  },
  {
   "cell_type": "markdown",
   "metadata": {},
   "source": [
    "## 2.4 DBSCAN"
   ]
  },
  {
   "cell_type": "code",
   "execution_count": 190,
   "metadata": {},
   "outputs": [],
   "source": [
    "from sklearn.cluster import DBSCAN\n",
    "from sklearn.metrics import silhouette_score\n",
    "from sklearn.metrics import v_measure_score"
   ]
  },
  {
   "cell_type": "code",
   "execution_count": 207,
   "metadata": {},
   "outputs": [
    {
     "name": "stdout",
     "output_type": "stream",
     "text": [
      "Estimated no. of clusters: 0\n"
     ]
    }
   ],
   "source": [
    "dbscan_cluster = DBSCAN(eps=0.1, min_samples=10)\n",
    "dbscan_cluster.fit(X)\n",
    "\n",
    "# Number of Clusters\n",
    "labels=dbscan_cluster.labels_\n",
    "N_clus=len(set(labels))-(1 if -1 in labels else 0)\n",
    "print('Estimated no. of clusters: %d' % N_clus)"
   ]
  },
  {
   "cell_type": "markdown",
   "metadata": {},
   "source": [
    "The basic DBscan model with epsilon of 0.1 did not work well, so I decide to tune the model with elbow point detection method to arrive at a suitable value of epsilon."
   ]
  },
  {
   "cell_type": "code",
   "execution_count": 202,
   "metadata": {},
   "outputs": [
    {
     "data": {
      "text/plain": [
       "Text(0, 0.5, 'Distance')"
      ]
     },
     "execution_count": 202,
     "metadata": {},
     "output_type": "execute_result"
    },
    {
     "data": {
      "image/png": "[encoded data removed]",
      "text/plain": [
       "<Figure size 360x360 with 1 Axes>"
      ]
     },
     "metadata": {},
     "output_type": "display_data"
    }
   ],
   "source": [
    "from sklearn.neighbors import NearestNeighbors\n",
    "\n",
    "nearest_neighbors = NearestNeighbors(n_neighbors=11)\n",
    "neighbors = nearest_neighbors.fit(df)\n",
    "\n",
    "distances, indices = neighbors.kneighbors(df)\n",
    "distances = np.sort(distances[:,10], axis=0)\n",
    "\n",
    "fig = plt.figure(figsize=(5, 5))\n",
    "plt.plot(distances)\n",
    "plt.xlabel(\"Points\")\n",
    "plt.ylabel(\"Distance\")"
   ]
  },
  {
   "cell_type": "code",
   "execution_count": 203,
   "metadata": {
    "scrolled": true
   },
   "outputs": [
    {
     "name": "stdout",
     "output_type": "stream",
     "text": [
      "Requirement already satisfied: kneed in c:\\users\\li lin\\anaconda3\\lib\\site-packages (0.7.0)\n",
      "Requirement already satisfied: scipy in c:\\users\\li lin\\anaconda3\\lib\\site-packages (from kneed) (1.7.1)\n",
      "Requirement already satisfied: matplotlib in c:\\users\\li lin\\anaconda3\\lib\\site-packages (from kneed) (3.4.3)\n",
      "Requirement already satisfied: numpy>=1.14.2 in c:\\users\\li lin\\appdata\\roaming\\python\\python38\\site-packages (from kneed) (1.22.3)\n",
      "Requirement already satisfied: kiwisolver>=1.0.1 in c:\\users\\li lin\\anaconda3\\lib\\site-packages (from matplotlib->kneed) (1.3.1)\n",
      "Requirement already satisfied: pillow>=6.2.0 in c:\\users\\li lin\\anaconda3\\lib\\site-packages (from matplotlib->kneed) (8.4.0)\n",
      "Requirement already satisfied: cycler>=0.10 in c:\\users\\li lin\\anaconda3\\lib\\site-packages (from matplotlib->kneed) (0.10.0)\n",
      "Requirement already satisfied: python-dateutil>=2.7 in c:\\users\\li lin\\anaconda3\\lib\\site-packages (from matplotlib->kneed) (2.8.2)\n",
      "Requirement already satisfied: pyparsing>=2.2.1 in c:\\users\\li lin\\anaconda3\\lib\\site-packages (from matplotlib->kneed) (3.0.4)\n",
      "Requirement already satisfied: six in c:\\users\\li lin\\anaconda3\\lib\\site-packages (from cycler>=0.10->matplotlib->kneed) (1.16.0)\n",
      "792.9199202946032\n"
     ]
    },
    {
     "data": {
      "text/plain": [
       "<Figure size 360x360 with 0 Axes>"
      ]
     },
     "metadata": {},
     "output_type": "display_data"
    },
    {
     "data": {
      "image/png": "[encoded data removed]",
      "text/plain": [
       "<Figure size 432x432 with 1 Axes>"
      ]
     },
     "metadata": {},
     "output_type": "display_data"
    }
   ],
   "source": [
    "!pip install --upgrade kneed\n",
    "from kneed import KneeLocator\n",
    "\n",
    "i = np.arange(len(distances))\n",
    "knee = KneeLocator(i, distances, S=1, curve='convex', direction='increasing', interp_method='polynomial')\n",
    "\n",
    "fig = plt.figure(figsize=(5, 5))\n",
    "knee.plot_knee()\n",
    "plt.xlabel(\"Points\")\n",
    "plt.ylabel(\"Distance\")\n",
    "\n",
    "print(distances[knee.knee])"
   ]
  },
  {
   "cell_type": "code",
   "execution_count": 205,
   "metadata": {},
   "outputs": [
    {
     "data": {
      "text/plain": [
       "DBSCAN(eps=792.91, min_samples=10)"
      ]
     },
     "execution_count": 205,
     "metadata": {},
     "output_type": "execute_result"
    }
   ],
   "source": [
    "# fit the model with best epsilon value of 792.91\n",
    "dbscan_cluster = DBSCAN(eps=792.91, min_samples=10)\n",
    "dbscan_cluster.fit(X)"
   ]
  },
  {
   "cell_type": "code",
   "execution_count": 206,
   "metadata": {},
   "outputs": [
    {
     "name": "stdout",
     "output_type": "stream",
     "text": [
      "Estimated no. of clusters: 1\n"
     ]
    }
   ],
   "source": [
    "# Number of Clusters\n",
    "labels=dbscan_cluster.labels_\n",
    "N_clus=len(set(labels))-(1 if -1 in labels else 0)\n",
    "print('Estimated no. of clusters: %d' % N_clus)"
   ]
  },
  {
   "cell_type": "code",
   "execution_count": 209,
   "metadata": {},
   "outputs": [
    {
     "name": "stdout",
     "output_type": "stream",
     "text": [
      "Estimated no. of clusters: 1\n"
     ]
    }
   ],
   "source": [
    "#fit with original data without PCA\n",
    "dbscan_cluster = DBSCAN(eps=792.91, min_samples=10)\n",
    "dbscan_cluster.fit(scaled_df)\n",
    "\n",
    "# Number of Clusters\n",
    "labels=dbscan_cluster.labels_\n",
    "N_clus=len(set(labels))-(1 if -1 in labels else 0)\n",
    "print('Estimated no. of clusters: %d' % N_clus)"
   ]
  },
  {
   "cell_type": "markdown",
   "metadata": {},
   "source": [
    "DBscan model failled to cluster the dataset.\n",
    "\n",
    "Only K-mean Clustering and  Agglomerative Clustering models successfully segment the customers, so I decide to use the result of Agglomerative Clustering for further analysis."
   ]
  },
  {
   "cell_type": "markdown",
   "metadata": {},
   "source": [
    "## Profile of Customer"
   ]
  },
  {
   "cell_type": "code",
   "execution_count": 208,
   "metadata": {},
   "outputs": [
    {
     "data": {
      "image/png": "[encoded data removed]",
      "text/plain": [
       "<Figure size 576x396 with 1 Axes>"
      ]
     },
     "metadata": {},
     "output_type": "display_data"
    }
   ],
   "source": [
    "pl = sns.scatterplot(data = df,x=df[\"Spent\"], y=df[\"Income\"],hue=df[\"Clusters\"])\n",
    "pl.set_title(\"Cluster's Profile Based On Income And Spending\")\n",
    "plt.legend()\n",
    "plt.show()"
   ]
  },
  {
   "cell_type": "markdown",
   "metadata": {},
   "source": [
    "Group 0: Low income and low spending\n",
    "\n",
    "Group 1: Average income and high spending \n",
    "\n",
    "Group 2: High income and high spending\n",
    "\n",
    "Group 3: Average  income and average spending"
   ]
  },
  {
   "cell_type": "code",
   "execution_count": 211,
   "metadata": {},
   "outputs": [
    {
     "data": {
      "image/png": "[encoded data removed]",
      "text/plain": [
       "<Figure size 576x396 with 1 Axes>"
      ]
     },
     "metadata": {},
     "output_type": "display_data"
    }
   ],
   "source": [
    "plt.figure()\n",
    "\n",
    "pl=sns.boxenplot(x=df[\"Clusters\"], y=df[\"Spent\"])\n",
    "plt.show()"
   ]
  },
  {
   "cell_type": "markdown",
   "metadata": {},
   "source": [
    "From the above plot, it can be clearly seen that cluster 2, representing customers who are in the high income and high spending group, is our biggest set of customers and followed by cluster 1 which represents customers with average income and high spending."
   ]
  },
  {
   "cell_type": "code",
   "execution_count": 212,
   "metadata": {},
   "outputs": [],
   "source": [
    "#Creating a feature to get a sum of accepted promotions \n",
    "df[\"Total_Promos\"] = df[\"AcceptedCmp1\"]+ df[\"AcceptedCmp2\"]+ df[\"AcceptedCmp3\"]+ df[\"AcceptedCmp4\"]+ df[\"AcceptedCmp5\"]"
   ]
  },
  {
   "cell_type": "code",
   "execution_count": 217,
   "metadata": {},
   "outputs": [
    {
     "data": {
      "image/png": "[encoded data removed]",
      "text/plain": [
       "<Figure size 576x396 with 1 Axes>"
      ]
     },
     "metadata": {},
     "output_type": "display_data"
    }
   ],
   "source": [
    "#plot the count of total compagin accepted by each cluster\n",
    "plt.figure()\n",
    "pl=sns.countplot(x=df['Total_Promos'],hue=df['Clusters'])\n",
    "pl.set_title(\"Count of Promotion Accepted by each Cluster\")\n",
    "pl.set_xlabel(\"Number of Total Accepted Promotions\")\n",
    "plt.show()"
   ]
  },
  {
   "cell_type": "markdown",
   "metadata": {},
   "source": [
    "There has not been an overwhelming response to the campaigns so far. Very few participants overall.Only high spending customers of cluster 1 and 2 have accepted more than 2 compaign offers. Perhaps better-targeted and well-planned campaigns are required to boost sales."
   ]
  },
  {
   "cell_type": "code",
   "execution_count": 220,
   "metadata": {
    "scrolled": true
   },
   "outputs": [
    {
     "data": {
      "image/png": "[encoded data removed]",
      "text/plain": [
       "<Figure size 1008x576 with 1 Axes>"
      ]
     },
     "metadata": {},
     "output_type": "display_data"
    }
   ],
   "source": [
    "plt.figure(figsize = (14,8) )\n",
    "sns.countplot(data =df, x = 'Children' , hue = 'Clusters')\n",
    "plt.title('Kids Distribution' ,fontsize = 15)\n",
    "plt.show()"
   ]
  },
  {
   "cell_type": "markdown",
   "metadata": {},
   "source": [
    "- Customers from cluster 2 and 3 have no child\n",
    "\n",
    "- Customer from cluster 0 and 1 have children with majority of them having one child\n",
    "\n"
   ]
  },
  {
   "cell_type": "code",
   "execution_count": 224,
   "metadata": {},
   "outputs": [],
   "source": [
    "dico = dict(zip(LE.classes_, LE.transform(LE.classes_)))"
   ]
  },
  {
   "cell_type": "code",
   "execution_count": 225,
   "metadata": {},
   "outputs": [
    {
     "data": {
      "text/plain": [
       "{'Graduate': 0, 'Postgraduate': 1, 'Undergraduate': 2}"
      ]
     },
     "execution_count": 225,
     "metadata": {},
     "output_type": "execute_result"
    }
   ],
   "source": [
    "dico"
   ]
  },
  {
   "cell_type": "code",
   "execution_count": 243,
   "metadata": {},
   "outputs": [
    {
     "data": {
      "image/png": "[encoded data removed]",
      "text/plain": [
       "<Figure size 1008x576 with 2 Axes>"
      ]
     },
     "metadata": {},
     "output_type": "display_data"
    }
   ],
   "source": [
    "plt.figure(figsize = (14,8) )\n",
    "education =['Graduate', 'Post Graduate', 'Under Graduate']\n",
    "for i in range(2):\n",
    "    counts =[]\n",
    "    d = df[df['Clusters'] == i]\n",
    "    counts.append(len(d[d['Education'] == 0]))\n",
    "    counts.append(len(d[d['Education'] == 1]))    \n",
    "    counts.append(len(d[d['Education'] == 2]))    \n",
    "    plt.subplot(1,2,i+1)\n",
    "    plt.title(\"Clusters \"+str(i))\n",
    "    plt.pie(counts, labels = education, autopct='%.0f%%')\n",
    "plt.show()"
   ]
  },
  {
   "cell_type": "code",
   "execution_count": 240,
   "metadata": {},
   "outputs": [
    {
     "data": {
      "image/png": "[encoded data removed]",
      "text/plain": [
       "<Figure size 1008x576 with 1 Axes>"
      ]
     },
     "metadata": {},
     "output_type": "display_data"
    }
   ],
   "source": [
    "plt.figure(figsize = (14,8) )\n",
    "sns.countplot(data =df, x = 'Education' , hue = 'Clusters')\n",
    "plt.title('Education Distribution' ,fontsize = 15)\n",
    "plt.show()"
   ]
  },
  {
   "cell_type": "markdown",
   "metadata": {},
   "source": [
    "- Graduate: 0\n",
    "\n",
    "- Postgraduate: 1\n",
    "\n",
    "- Undergraduate: 2\n",
    "\n",
    "- Most of the customers have higher education\n"
   ]
  },
  {
   "cell_type": "markdown",
   "metadata": {},
   "source": [
    "The high spending customers come from cluster 1 and 2, and their profile contains characters:\n",
    "\n",
    "- Most of them have higher education\n",
    "\n",
    "- Most of them have zero to 1 child\n",
    "\n",
    "- They have high spending and average to high income level\n",
    "\n",
    "- Few of them have accepcted more than 2 campign offers\n",
    "\n",
    "The average and low spending customer come from cluster 0 and 3, and their profile contains characters:\n",
    "\n",
    "- They have low to average income level and spending \n",
    "\n",
    "- Most of them are undergraduate and graduate\n",
    "\n",
    "- None of them has accepted more than 2 compaign offers\n",
    "\n",
    "- Customers of cluster 3 have no child\n",
    "\n",
    "- Majority of customers of cluster 0 have 1 to 2 children"
   ]
  },
  {
   "cell_type": "code",
   "execution_count": null,
   "metadata": {},
   "outputs": [],
   "source": []
  }
 ],
 "metadata": {
  "kernelspec": {
   "display_name": "Python 3",
   "language": "python",
   "name": "python3"
  },
  "language_info": {
   "codemirror_mode": {
    "name": "ipython",
    "version": 3
   },
   "file_extension": ".py",
   "mimetype": "text/x-python",
   "name": "python",
   "nbconvert_exporter": "python",
   "pygments_lexer": "ipython3",
   "version": "3.7.6"
  }
 },
 "nbformat": 4,
 "nbformat_minor": 5
}
